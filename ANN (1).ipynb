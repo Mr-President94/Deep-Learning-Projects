{
  "nbformat": 4,
  "nbformat_minor": 0,
  "metadata": {
    "colab": {
      "name": "ANN.ipynb",
      "provenance": [],
      "collapsed_sections": []
    },
    "kernelspec": {
      "name": "python3",
      "display_name": "Python 3"
    }
  },
  "cells": [
    {
      "cell_type": "markdown",
      "metadata": {
        "id": "XnFmLhgCGEpZ",
        "colab_type": "text"
      },
      "source": [
        "# Artificial Neural Network Simplified (Churn Dataset)\n",
        "\n",
        "### **Goals of the project -** \n",
        "* To understand the basic implemetation of the ANN\n",
        "* To build the ANN layer by layer and understanding the significance of each layer and the arguments used\n",
        "* To understand how to cross validate the results of ANN\n",
        "* Learn to fine tune the ANN using Grid Search Mechanism\n"
      ]
    },
    {
      "cell_type": "code",
      "metadata": {
        "id": "ilCdMQauMrlN",
        "colab_type": "code",
        "colab": {}
      },
      "source": [
        "import pandas as pd\n",
        "import warnings  \n",
        "warnings.filterwarnings('ignore') # to ignore the warnings"
      ],
      "execution_count": 62,
      "outputs": []
    },
    {
      "cell_type": "code",
      "metadata": {
        "id": "WqOD914cL8v8",
        "colab_type": "code",
        "colab": {
          "base_uri": "https://localhost:8080/",
          "height": 34
        },
        "outputId": "4487a1c4-3677-4cbf-8baa-dcb7e6991ddc"
      },
      "source": [
        "from google.colab import drive\n",
        "drive.mount('/content/gdrive')"
      ],
      "execution_count": 63,
      "outputs": [
        {
          "output_type": "stream",
          "text": [
            "Drive already mounted at /content/gdrive; to attempt to forcibly remount, call drive.mount(\"/content/gdrive\", force_remount=True).\n"
          ],
          "name": "stdout"
        }
      ]
    },
    {
      "cell_type": "code",
      "metadata": {
        "id": "4oVf5qyJMzaU",
        "colab_type": "code",
        "colab": {
          "base_uri": "https://localhost:8080/",
          "height": 224
        },
        "outputId": "feebe870-58cc-40d0-e00e-5eded246b374"
      },
      "source": [
        "data = pd.read_csv('/content/gdrive/My Drive/Data/Churn_Modelling.csv')\n",
        "data.head()"
      ],
      "execution_count": 64,
      "outputs": [
        {
          "output_type": "execute_result",
          "data": {
            "text/html": [
              "<div>\n",
              "<style scoped>\n",
              "    .dataframe tbody tr th:only-of-type {\n",
              "        vertical-align: middle;\n",
              "    }\n",
              "\n",
              "    .dataframe tbody tr th {\n",
              "        vertical-align: top;\n",
              "    }\n",
              "\n",
              "    .dataframe thead th {\n",
              "        text-align: right;\n",
              "    }\n",
              "</style>\n",
              "<table border=\"1\" class=\"dataframe\">\n",
              "  <thead>\n",
              "    <tr style=\"text-align: right;\">\n",
              "      <th></th>\n",
              "      <th>RowNumber</th>\n",
              "      <th>CustomerId</th>\n",
              "      <th>Surname</th>\n",
              "      <th>CreditScore</th>\n",
              "      <th>Geography</th>\n",
              "      <th>Gender</th>\n",
              "      <th>Age</th>\n",
              "      <th>Tenure</th>\n",
              "      <th>Balance</th>\n",
              "      <th>NumOfProducts</th>\n",
              "      <th>HasCrCard</th>\n",
              "      <th>IsActiveMember</th>\n",
              "      <th>EstimatedSalary</th>\n",
              "      <th>Exited</th>\n",
              "    </tr>\n",
              "  </thead>\n",
              "  <tbody>\n",
              "    <tr>\n",
              "      <th>0</th>\n",
              "      <td>1</td>\n",
              "      <td>15634602</td>\n",
              "      <td>Hargrave</td>\n",
              "      <td>619</td>\n",
              "      <td>France</td>\n",
              "      <td>Female</td>\n",
              "      <td>42</td>\n",
              "      <td>2</td>\n",
              "      <td>0.00</td>\n",
              "      <td>1</td>\n",
              "      <td>1</td>\n",
              "      <td>1</td>\n",
              "      <td>101348.88</td>\n",
              "      <td>1</td>\n",
              "    </tr>\n",
              "    <tr>\n",
              "      <th>1</th>\n",
              "      <td>2</td>\n",
              "      <td>15647311</td>\n",
              "      <td>Hill</td>\n",
              "      <td>608</td>\n",
              "      <td>Spain</td>\n",
              "      <td>Female</td>\n",
              "      <td>41</td>\n",
              "      <td>1</td>\n",
              "      <td>83807.86</td>\n",
              "      <td>1</td>\n",
              "      <td>0</td>\n",
              "      <td>1</td>\n",
              "      <td>112542.58</td>\n",
              "      <td>0</td>\n",
              "    </tr>\n",
              "    <tr>\n",
              "      <th>2</th>\n",
              "      <td>3</td>\n",
              "      <td>15619304</td>\n",
              "      <td>Onio</td>\n",
              "      <td>502</td>\n",
              "      <td>France</td>\n",
              "      <td>Female</td>\n",
              "      <td>42</td>\n",
              "      <td>8</td>\n",
              "      <td>159660.80</td>\n",
              "      <td>3</td>\n",
              "      <td>1</td>\n",
              "      <td>0</td>\n",
              "      <td>113931.57</td>\n",
              "      <td>1</td>\n",
              "    </tr>\n",
              "    <tr>\n",
              "      <th>3</th>\n",
              "      <td>4</td>\n",
              "      <td>15701354</td>\n",
              "      <td>Boni</td>\n",
              "      <td>699</td>\n",
              "      <td>France</td>\n",
              "      <td>Female</td>\n",
              "      <td>39</td>\n",
              "      <td>1</td>\n",
              "      <td>0.00</td>\n",
              "      <td>2</td>\n",
              "      <td>0</td>\n",
              "      <td>0</td>\n",
              "      <td>93826.63</td>\n",
              "      <td>0</td>\n",
              "    </tr>\n",
              "    <tr>\n",
              "      <th>4</th>\n",
              "      <td>5</td>\n",
              "      <td>15737888</td>\n",
              "      <td>Mitchell</td>\n",
              "      <td>850</td>\n",
              "      <td>Spain</td>\n",
              "      <td>Female</td>\n",
              "      <td>43</td>\n",
              "      <td>2</td>\n",
              "      <td>125510.82</td>\n",
              "      <td>1</td>\n",
              "      <td>1</td>\n",
              "      <td>1</td>\n",
              "      <td>79084.10</td>\n",
              "      <td>0</td>\n",
              "    </tr>\n",
              "  </tbody>\n",
              "</table>\n",
              "</div>"
            ],
            "text/plain": [
              "   RowNumber  CustomerId   Surname  ...  IsActiveMember EstimatedSalary Exited\n",
              "0          1    15634602  Hargrave  ...               1       101348.88      1\n",
              "1          2    15647311      Hill  ...               1       112542.58      0\n",
              "2          3    15619304      Onio  ...               0       113931.57      1\n",
              "3          4    15701354      Boni  ...               0        93826.63      0\n",
              "4          5    15737888  Mitchell  ...               1        79084.10      0\n",
              "\n",
              "[5 rows x 14 columns]"
            ]
          },
          "metadata": {
            "tags": []
          },
          "execution_count": 64
        }
      ]
    },
    {
      "cell_type": "markdown",
      "metadata": {
        "id": "awCv73wvGlCI",
        "colab_type": "text"
      },
      "source": [
        "## **Step 1** : Pre-processing"
      ]
    },
    {
      "cell_type": "code",
      "metadata": {
        "id": "S7PeuwU5NHwC",
        "colab_type": "code",
        "colab": {}
      },
      "source": [
        "# encoding the categorical columns and getting rid of the redundant columns\n",
        "geog = pd.get_dummies(data['Geography'], drop_first=True)\n",
        "gend = pd.get_dummies(data[\"Gender\"], drop_first=True)"
      ],
      "execution_count": 65,
      "outputs": []
    },
    {
      "cell_type": "code",
      "metadata": {
        "id": "LJt98sYdNKwa",
        "colab_type": "code",
        "colab": {}
      },
      "source": [
        "# converting these columns to 'int'\n",
        "geog = geog.astype(int)\n",
        "gend = gend.astype(int)"
      ],
      "execution_count": 66,
      "outputs": []
    },
    {
      "cell_type": "code",
      "metadata": {
        "id": "ww2vQzqLNM0K",
        "colab_type": "code",
        "colab": {}
      },
      "source": [
        "# concatenating these encoded variables to the original dataset\n",
        "data1 = pd.concat([data, gend, geog], axis=1)"
      ],
      "execution_count": 67,
      "outputs": []
    },
    {
      "cell_type": "code",
      "metadata": {
        "id": "INr35dTnNPHS",
        "colab_type": "code",
        "colab": {}
      },
      "source": [
        "# seperating the independent and dependent variables\n",
        "feature_cols = ['CreditScore', 'Age', 'Tenure', 'Balance',\n",
        "                'NumOfProducts', 'HasCrCard', 'IsActiveMember', 'EstimatedSalary', 'Male', 'Germany', 'Spain']\n",
        "\n",
        "x = data1[feature_cols]\n",
        "y = data1['Exited']"
      ],
      "execution_count": 68,
      "outputs": []
    },
    {
      "cell_type": "code",
      "metadata": {
        "id": "G-Vb1G3KNT-p",
        "colab_type": "code",
        "colab": {}
      },
      "source": [
        "# splitting the data\n",
        "from sklearn.model_selection import train_test_split\n",
        "x_train, x_test, y_train, y_test = train_test_split(x, y, test_size=0.2, random_state=2)"
      ],
      "execution_count": 69,
      "outputs": []
    },
    {
      "cell_type": "code",
      "metadata": {
        "id": "Jy9usArWNWEi",
        "colab_type": "code",
        "colab": {}
      },
      "source": [
        "# scaling the data\n",
        "from sklearn.preprocessing import StandardScaler\n",
        "sc = StandardScaler()\n",
        "x_train = sc.fit_transform(x_train)\n",
        "x_test = sc.fit_transform(x_test)"
      ],
      "execution_count": 70,
      "outputs": []
    },
    {
      "cell_type": "markdown",
      "metadata": {
        "id": "y9hJGPBVHR3p",
        "colab_type": "text"
      },
      "source": [
        "## **Step - 2** : Building the Artificial Neural Network"
      ]
    },
    {
      "cell_type": "code",
      "metadata": {
        "id": "WDxRwOeDNX-B",
        "colab_type": "code",
        "colab": {}
      },
      "source": [
        "# importing the required libraries to form an Artificial Neural Network\n",
        "from keras.models import Sequential     # required to initialize the neural network coz ANN is a sequence of layers\n",
        "from keras.layers import Dense          # to build the layers in ANN"
      ],
      "execution_count": 71,
      "outputs": []
    },
    {
      "cell_type": "code",
      "metadata": {
        "id": "cbiB8hviNZiB",
        "colab_type": "code",
        "colab": {}
      },
      "source": [
        "# initializing the ANN\n",
        "ann_classifier = Sequential()"
      ],
      "execution_count": 72,
      "outputs": []
    },
    {
      "cell_type": "markdown",
      "metadata": {
        "id": "1CnxbRB9HetA",
        "colab_type": "text"
      },
      "source": [
        "**Step 2.1 :** Adding the input layer and the 1st hidden layer"
      ]
    },
    {
      "cell_type": "code",
      "metadata": {
        "id": "V3jn7i3ANcL4",
        "colab_type": "code",
        "colab": {}
      },
      "source": [
        "ann_classifier.add(Dense(output_dim=6, init='uniform', activation='relu', input_dim=11))"
      ],
      "execution_count": 73,
      "outputs": []
    },
    {
      "cell_type": "markdown",
      "metadata": {
        "id": "WOGu45MKHqfS",
        "colab_type": "text"
      },
      "source": [
        "**Arguments used -**\n",
        "* `output_dim` = no. of nodes in hidden layer, generally half of the total of all variables\n",
        "* `init='uniform'` means assigining weights close to 0 in a uniform manner\n",
        "* `activation='relu'` means assigning rectifier function at the hidden layer\n",
        "* `input_dim=11` means input layer parameters(no. of variables in training set)"
      ]
    },
    {
      "cell_type": "markdown",
      "metadata": {
        "id": "zf3scBflIOEE",
        "colab_type": "text"
      },
      "source": [
        "**Step 2.2 :** Adding the 2nd hidden layer\n",
        "\n",
        "This time, there is no need to specify the input layer as the operation above tells this layer what input to expect"
      ]
    },
    {
      "cell_type": "code",
      "metadata": {
        "id": "XmZMgt0VNeXk",
        "colab_type": "code",
        "colab": {}
      },
      "source": [
        "ann_classifier.add(Dense(output_dim=6, init='uniform', activation='relu'))"
      ],
      "execution_count": 74,
      "outputs": []
    },
    {
      "cell_type": "markdown",
      "metadata": {
        "id": "VVtgAYBKI1qR",
        "colab_type": "text"
      },
      "source": [
        "**Step 2.3 :** Adding the output layer"
      ]
    },
    {
      "cell_type": "code",
      "metadata": {
        "id": "nxP0OcItNgkF",
        "colab_type": "code",
        "colab": {}
      },
      "source": [
        "ann_classifier.add(Dense(output_dim=1, init='uniform', activation='sigmoid'))"
      ],
      "execution_count": 75,
      "outputs": []
    },
    {
      "cell_type": "markdown",
      "metadata": {
        "id": "T00CtwNgJBSD",
        "colab_type": "text"
      },
      "source": [
        "**Step 2.4 :** Compiling the ANN"
      ]
    },
    {
      "cell_type": "code",
      "metadata": {
        "id": "aSdZUUu3Nikd",
        "colab_type": "code",
        "colab": {}
      },
      "source": [
        "ann_classifier.compile(optimizer='adam', loss='binary_crossentropy', metrics=['accuracy'])"
      ],
      "execution_count": 76,
      "outputs": []
    },
    {
      "cell_type": "markdown",
      "metadata": {
        "id": "1MvutdeqJHkm",
        "colab_type": "text"
      },
      "source": [
        "**Arguments used -** \n",
        "* `optimizer` = name of the algorithm we want to apply, usually SGD algorithm known by 'adam'\n",
        "* `loss` = loss function within SGD algorithm, or the function we need to optimize to find optimal weights usually based on the activation function used for the o/p layer, or the type of dependent variable\n",
        "* `metrics` parameter has [] coz it expects a list of values as the weights have been calculated after each observation or each batch of observation. Hence the algorithm uses this parameter to calculate the accuracy to improve the model performance"
      ]
    },
    {
      "cell_type": "markdown",
      "metadata": {
        "id": "9AO48wENJ6VF",
        "colab_type": "text"
      },
      "source": [
        "**Step 2.5 :** Fitting the ANN to the training set\n",
        "\n",
        "**Arguemnts used -**\n",
        "* `batch_size` means after how many observations the weights should be updated\n",
        "* `nb_epoch` means how many times you want to run through the network\n",
        "* `1` epoch would signify that whole data has been passed through the network once"
      ]
    },
    {
      "cell_type": "code",
      "metadata": {
        "id": "NNlQzCT9NlS5",
        "colab_type": "code",
        "colab": {
          "base_uri": "https://localhost:8080/",
          "height": 1000
        },
        "outputId": "afd9c475-75bd-4701-f46e-cbcb30343ff5"
      },
      "source": [
        "ann_classifier.fit(x_train, y_train, batch_size=10, nb_epoch=100)"
      ],
      "execution_count": 77,
      "outputs": [
        {
          "output_type": "stream",
          "text": [
            "Epoch 1/100\n",
            "8000/8000 [==============================] - 1s 138us/step - loss: 0.4819 - accuracy: 0.7933\n",
            "Epoch 2/100\n",
            "8000/8000 [==============================] - 1s 122us/step - loss: 0.4263 - accuracy: 0.7937\n",
            "Epoch 3/100\n",
            "8000/8000 [==============================] - 1s 119us/step - loss: 0.4179 - accuracy: 0.8259\n",
            "Epoch 4/100\n",
            "8000/8000 [==============================] - 1s 119us/step - loss: 0.4115 - accuracy: 0.8306\n",
            "Epoch 5/100\n",
            "8000/8000 [==============================] - 1s 117us/step - loss: 0.4070 - accuracy: 0.8328\n",
            "Epoch 6/100\n",
            "8000/8000 [==============================] - 1s 125us/step - loss: 0.4044 - accuracy: 0.8361\n",
            "Epoch 7/100\n",
            "8000/8000 [==============================] - 1s 123us/step - loss: 0.4017 - accuracy: 0.8349\n",
            "Epoch 8/100\n",
            "8000/8000 [==============================] - 1s 128us/step - loss: 0.4001 - accuracy: 0.8350\n",
            "Epoch 9/100\n",
            "8000/8000 [==============================] - 1s 123us/step - loss: 0.3991 - accuracy: 0.8354\n",
            "Epoch 10/100\n",
            "8000/8000 [==============================] - 1s 122us/step - loss: 0.3980 - accuracy: 0.8350\n",
            "Epoch 11/100\n",
            "8000/8000 [==============================] - 1s 122us/step - loss: 0.3972 - accuracy: 0.8372\n",
            "Epoch 12/100\n",
            "8000/8000 [==============================] - 1s 124us/step - loss: 0.3966 - accuracy: 0.8350\n",
            "Epoch 13/100\n",
            "8000/8000 [==============================] - 1s 126us/step - loss: 0.3964 - accuracy: 0.8349\n",
            "Epoch 14/100\n",
            "8000/8000 [==============================] - 1s 123us/step - loss: 0.3960 - accuracy: 0.8345\n",
            "Epoch 15/100\n",
            "8000/8000 [==============================] - 1s 123us/step - loss: 0.3956 - accuracy: 0.8356\n",
            "Epoch 16/100\n",
            "8000/8000 [==============================] - 1s 123us/step - loss: 0.3952 - accuracy: 0.8367\n",
            "Epoch 17/100\n",
            "8000/8000 [==============================] - 1s 124us/step - loss: 0.3947 - accuracy: 0.8363\n",
            "Epoch 18/100\n",
            "8000/8000 [==============================] - 1s 120us/step - loss: 0.3939 - accuracy: 0.8364\n",
            "Epoch 19/100\n",
            "8000/8000 [==============================] - 1s 122us/step - loss: 0.3942 - accuracy: 0.8372\n",
            "Epoch 20/100\n",
            "8000/8000 [==============================] - 1s 123us/step - loss: 0.3941 - accuracy: 0.8372\n",
            "Epoch 21/100\n",
            "8000/8000 [==============================] - 1s 124us/step - loss: 0.3929 - accuracy: 0.8378\n",
            "Epoch 22/100\n",
            "8000/8000 [==============================] - 1s 123us/step - loss: 0.3934 - accuracy: 0.8388\n",
            "Epoch 23/100\n",
            "8000/8000 [==============================] - 1s 123us/step - loss: 0.3939 - accuracy: 0.8379\n",
            "Epoch 24/100\n",
            "8000/8000 [==============================] - 1s 129us/step - loss: 0.3934 - accuracy: 0.8372\n",
            "Epoch 25/100\n",
            "8000/8000 [==============================] - 1s 123us/step - loss: 0.3933 - accuracy: 0.8371\n",
            "Epoch 26/100\n",
            "8000/8000 [==============================] - 1s 121us/step - loss: 0.3929 - accuracy: 0.8363\n",
            "Epoch 27/100\n",
            "8000/8000 [==============================] - 1s 124us/step - loss: 0.3932 - accuracy: 0.8384\n",
            "Epoch 28/100\n",
            "8000/8000 [==============================] - 1s 126us/step - loss: 0.3924 - accuracy: 0.8388\n",
            "Epoch 29/100\n",
            "8000/8000 [==============================] - 1s 125us/step - loss: 0.3926 - accuracy: 0.8374\n",
            "Epoch 30/100\n",
            "8000/8000 [==============================] - 1s 122us/step - loss: 0.3922 - accuracy: 0.8379\n",
            "Epoch 31/100\n",
            "8000/8000 [==============================] - 1s 120us/step - loss: 0.3920 - accuracy: 0.8388\n",
            "Epoch 32/100\n",
            "8000/8000 [==============================] - 1s 122us/step - loss: 0.3922 - accuracy: 0.8385\n",
            "Epoch 33/100\n",
            "8000/8000 [==============================] - 1s 122us/step - loss: 0.3922 - accuracy: 0.8385\n",
            "Epoch 34/100\n",
            "8000/8000 [==============================] - 1s 121us/step - loss: 0.3921 - accuracy: 0.8400\n",
            "Epoch 35/100\n",
            "8000/8000 [==============================] - 1s 124us/step - loss: 0.3919 - accuracy: 0.8395\n",
            "Epoch 36/100\n",
            "8000/8000 [==============================] - 1s 121us/step - loss: 0.3915 - accuracy: 0.8397\n",
            "Epoch 37/100\n",
            "8000/8000 [==============================] - 1s 127us/step - loss: 0.3908 - accuracy: 0.8396\n",
            "Epoch 38/100\n",
            "8000/8000 [==============================] - 1s 124us/step - loss: 0.3912 - accuracy: 0.8400\n",
            "Epoch 39/100\n",
            "8000/8000 [==============================] - 1s 126us/step - loss: 0.3913 - accuracy: 0.8407\n",
            "Epoch 40/100\n",
            "8000/8000 [==============================] - 1s 126us/step - loss: 0.3909 - accuracy: 0.8404\n",
            "Epoch 41/100\n",
            "8000/8000 [==============================] - 1s 123us/step - loss: 0.3908 - accuracy: 0.8403\n",
            "Epoch 42/100\n",
            "8000/8000 [==============================] - 1s 126us/step - loss: 0.3907 - accuracy: 0.8394\n",
            "Epoch 43/100\n",
            "8000/8000 [==============================] - 1s 131us/step - loss: 0.3905 - accuracy: 0.8397\n",
            "Epoch 44/100\n",
            "8000/8000 [==============================] - 1s 121us/step - loss: 0.3906 - accuracy: 0.8396\n",
            "Epoch 45/100\n",
            "8000/8000 [==============================] - 1s 123us/step - loss: 0.3904 - accuracy: 0.8411\n",
            "Epoch 46/100\n",
            "8000/8000 [==============================] - 1s 121us/step - loss: 0.3901 - accuracy: 0.8403\n",
            "Epoch 47/100\n",
            "8000/8000 [==============================] - 1s 125us/step - loss: 0.3896 - accuracy: 0.8399\n",
            "Epoch 48/100\n",
            "8000/8000 [==============================] - 1s 127us/step - loss: 0.3896 - accuracy: 0.8420\n",
            "Epoch 49/100\n",
            "8000/8000 [==============================] - 1s 126us/step - loss: 0.3891 - accuracy: 0.8390\n",
            "Epoch 50/100\n",
            "8000/8000 [==============================] - 1s 128us/step - loss: 0.3887 - accuracy: 0.8400\n",
            "Epoch 51/100\n",
            "8000/8000 [==============================] - 1s 137us/step - loss: 0.3885 - accuracy: 0.8415\n",
            "Epoch 52/100\n",
            "8000/8000 [==============================] - 1s 121us/step - loss: 0.3881 - accuracy: 0.8394\n",
            "Epoch 53/100\n",
            "8000/8000 [==============================] - 1s 123us/step - loss: 0.3885 - accuracy: 0.8391\n",
            "Epoch 54/100\n",
            "8000/8000 [==============================] - 1s 120us/step - loss: 0.3878 - accuracy: 0.8391\n",
            "Epoch 55/100\n",
            "8000/8000 [==============================] - 1s 123us/step - loss: 0.3868 - accuracy: 0.8422\n",
            "Epoch 56/100\n",
            "8000/8000 [==============================] - 1s 125us/step - loss: 0.3869 - accuracy: 0.8407\n",
            "Epoch 57/100\n",
            "8000/8000 [==============================] - 1s 125us/step - loss: 0.3867 - accuracy: 0.8385\n",
            "Epoch 58/100\n",
            "8000/8000 [==============================] - 1s 129us/step - loss: 0.3858 - accuracy: 0.8395\n",
            "Epoch 59/100\n",
            "8000/8000 [==============================] - 1s 124us/step - loss: 0.3848 - accuracy: 0.8404\n",
            "Epoch 60/100\n",
            "8000/8000 [==============================] - 1s 125us/step - loss: 0.3830 - accuracy: 0.8399\n",
            "Epoch 61/100\n",
            "8000/8000 [==============================] - 1s 122us/step - loss: 0.3817 - accuracy: 0.8386\n",
            "Epoch 62/100\n",
            "8000/8000 [==============================] - 1s 123us/step - loss: 0.3811 - accuracy: 0.8388\n",
            "Epoch 63/100\n",
            "8000/8000 [==============================] - 1s 124us/step - loss: 0.3777 - accuracy: 0.8410\n",
            "Epoch 64/100\n",
            "8000/8000 [==============================] - 1s 123us/step - loss: 0.3741 - accuracy: 0.8424\n",
            "Epoch 65/100\n",
            "8000/8000 [==============================] - 1s 123us/step - loss: 0.3690 - accuracy: 0.8436\n",
            "Epoch 66/100\n",
            "8000/8000 [==============================] - 1s 121us/step - loss: 0.3630 - accuracy: 0.8485\n",
            "Epoch 67/100\n",
            "8000/8000 [==============================] - 1s 132us/step - loss: 0.3578 - accuracy: 0.8504\n",
            "Epoch 68/100\n",
            "8000/8000 [==============================] - 1s 125us/step - loss: 0.3543 - accuracy: 0.8531\n",
            "Epoch 69/100\n",
            "8000/8000 [==============================] - 1s 123us/step - loss: 0.3521 - accuracy: 0.8564\n",
            "Epoch 70/100\n",
            "8000/8000 [==============================] - 1s 125us/step - loss: 0.3505 - accuracy: 0.8572\n",
            "Epoch 71/100\n",
            "8000/8000 [==============================] - 1s 124us/step - loss: 0.3487 - accuracy: 0.8591\n",
            "Epoch 72/100\n",
            "8000/8000 [==============================] - 1s 123us/step - loss: 0.3474 - accuracy: 0.8583\n",
            "Epoch 73/100\n",
            "8000/8000 [==============================] - 1s 124us/step - loss: 0.3464 - accuracy: 0.8596\n",
            "Epoch 74/100\n",
            "8000/8000 [==============================] - 1s 125us/step - loss: 0.3450 - accuracy: 0.8601\n",
            "Epoch 75/100\n",
            "8000/8000 [==============================] - 1s 125us/step - loss: 0.3442 - accuracy: 0.8604\n",
            "Epoch 76/100\n",
            "8000/8000 [==============================] - 1s 126us/step - loss: 0.3432 - accuracy: 0.8604\n",
            "Epoch 77/100\n",
            "8000/8000 [==============================] - 1s 132us/step - loss: 0.3417 - accuracy: 0.8622\n",
            "Epoch 78/100\n",
            "8000/8000 [==============================] - 1s 123us/step - loss: 0.3410 - accuracy: 0.8620\n",
            "Epoch 79/100\n",
            "8000/8000 [==============================] - 1s 123us/step - loss: 0.3406 - accuracy: 0.8648\n",
            "Epoch 80/100\n",
            "8000/8000 [==============================] - 1s 123us/step - loss: 0.3401 - accuracy: 0.8627\n",
            "Epoch 81/100\n",
            "8000/8000 [==============================] - 1s 125us/step - loss: 0.3392 - accuracy: 0.8630\n",
            "Epoch 82/100\n",
            "8000/8000 [==============================] - 1s 121us/step - loss: 0.3390 - accuracy: 0.8646\n",
            "Epoch 83/100\n",
            "8000/8000 [==============================] - 1s 124us/step - loss: 0.3382 - accuracy: 0.8621\n",
            "Epoch 84/100\n",
            "8000/8000 [==============================] - 1s 122us/step - loss: 0.3382 - accuracy: 0.8648\n",
            "Epoch 85/100\n",
            "8000/8000 [==============================] - 1s 123us/step - loss: 0.3380 - accuracy: 0.8639\n",
            "Epoch 86/100\n",
            "8000/8000 [==============================] - 1s 126us/step - loss: 0.3372 - accuracy: 0.8639\n",
            "Epoch 87/100\n",
            "8000/8000 [==============================] - 1s 122us/step - loss: 0.3365 - accuracy: 0.8630\n",
            "Epoch 88/100\n",
            "8000/8000 [==============================] - 1s 122us/step - loss: 0.3370 - accuracy: 0.8648\n",
            "Epoch 89/100\n",
            "8000/8000 [==============================] - 1s 126us/step - loss: 0.3363 - accuracy: 0.8646\n",
            "Epoch 90/100\n",
            "8000/8000 [==============================] - 1s 122us/step - loss: 0.3355 - accuracy: 0.8626\n",
            "Epoch 91/100\n",
            "8000/8000 [==============================] - 1s 125us/step - loss: 0.3364 - accuracy: 0.8644\n",
            "Epoch 92/100\n",
            "8000/8000 [==============================] - 1s 124us/step - loss: 0.3358 - accuracy: 0.8612\n",
            "Epoch 93/100\n",
            "8000/8000 [==============================] - 1s 124us/step - loss: 0.3358 - accuracy: 0.8602\n",
            "Epoch 94/100\n",
            "8000/8000 [==============================] - 1s 123us/step - loss: 0.3346 - accuracy: 0.8641\n",
            "Epoch 95/100\n",
            "8000/8000 [==============================] - 1s 122us/step - loss: 0.3349 - accuracy: 0.8634\n",
            "Epoch 96/100\n",
            "8000/8000 [==============================] - 1s 120us/step - loss: 0.3351 - accuracy: 0.8631\n",
            "Epoch 97/100\n",
            "8000/8000 [==============================] - 1s 124us/step - loss: 0.3345 - accuracy: 0.8648\n",
            "Epoch 98/100\n",
            "8000/8000 [==============================] - 1s 123us/step - loss: 0.3335 - accuracy: 0.8636\n",
            "Epoch 99/100\n",
            "8000/8000 [==============================] - 1s 121us/step - loss: 0.3338 - accuracy: 0.8635\n",
            "Epoch 100/100\n",
            "8000/8000 [==============================] - 1s 122us/step - loss: 0.3334 - accuracy: 0.8631\n"
          ],
          "name": "stdout"
        },
        {
          "output_type": "execute_result",
          "data": {
            "text/plain": [
              "<keras.callbacks.callbacks.History at 0x7ff4f54b4748>"
            ]
          },
          "metadata": {
            "tags": []
          },
          "execution_count": 77
        }
      ]
    },
    {
      "cell_type": "markdown",
      "metadata": {
        "id": "zSpYBSuGKhBv",
        "colab_type": "text"
      },
      "source": [
        "## **Step 3 :** Predicting the results on test set"
      ]
    },
    {
      "cell_type": "code",
      "metadata": {
        "id": "yMuuOy4KNnv4",
        "colab_type": "code",
        "colab": {}
      },
      "source": [
        "y_pred = ann_classifier.predict(x_test)\n",
        "y_pred = y_pred > 0.5       "
      ],
      "execution_count": 78,
      "outputs": []
    },
    {
      "cell_type": "markdown",
      "metadata": {
        "id": "NET2xmqvLvob",
        "colab_type": "text"
      },
      "source": [
        "* Here we set a threshold of 0.5 \n",
        "* People having this score greater than 0.5 means a probability of leaving the bank\n",
        "* Hence we apply a trick here that if values less than 0.5 then it would return False and if greater than 0.5 it would return True\n",
        "* Then we plot the Confusion Matrix for the same"
      ]
    },
    {
      "cell_type": "code",
      "metadata": {
        "id": "Ydkz7jX0N8o9",
        "colab_type": "code",
        "colab": {
          "base_uri": "https://localhost:8080/",
          "height": 68
        },
        "outputId": "a101f0fc-5de8-4252-fc5a-b652ed2fd86c"
      },
      "source": [
        "from sklearn.metrics import confusion_matrix, accuracy_score\n",
        "cm = confusion_matrix(y_test, y_pred)\n",
        "print(cm)\n",
        "print(\"The accuracy obtained on testing set is\", round((accuracy_score(y_test, y_pred) * 100), 2), '%')"
      ],
      "execution_count": 95,
      "outputs": [
        {
          "output_type": "stream",
          "text": [
            "[[1534   83]\n",
            " [ 193  190]]\n",
            "The accuracy obtained on testing set is 86.2 %\n"
          ],
          "name": "stdout"
        }
      ]
    },
    {
      "cell_type": "markdown",
      "metadata": {
        "id": "xLURgbGlMvbZ",
        "colab_type": "text"
      },
      "source": [
        "## **Step 4 :** Evluating the ANN (Cross Validation)"
      ]
    },
    {
      "cell_type": "markdown",
      "metadata": {
        "id": "IbHq3NVlNIlb",
        "colab_type": "text"
      },
      "source": [
        "**Step 4.1 :** Wrapping k-fold cross validation into keras model"
      ]
    },
    {
      "cell_type": "code",
      "metadata": {
        "id": "fSSN_M_mN_Qn",
        "colab_type": "code",
        "colab": {}
      },
      "source": [
        "from keras.wrappers.scikit_learn import KerasClassifier\n",
        "from sklearn.model_selection import cross_val_score"
      ],
      "execution_count": 80,
      "outputs": []
    },
    {
      "cell_type": "markdown",
      "metadata": {
        "id": "FeVVuq2GNHEn",
        "colab_type": "text"
      },
      "source": [
        "**Step 4.2 -** Building a function to initialize the ANN and its respective layers"
      ]
    },
    {
      "cell_type": "code",
      "metadata": {
        "id": "aGItmvVkOBYy",
        "colab_type": "code",
        "colab": {}
      },
      "source": [
        "def build_classifier():\n",
        "    from keras.models import Sequential\n",
        "    from keras.layers import Dense\n",
        "    ann_classifier = Sequential()\n",
        "    ann_classifier.add(Dense(output_dim=6, init='uniform', activation='relu', input_dim=11))\n",
        "    ann_classifier.add(Dense(output_dim=6, init='uniform', activation='relu'))\n",
        "    ann_classifier.add(Dense(output_dim=1, init='uniform', activation='sigmoid'))\n",
        "    ann_classifier.compile(optimizer='adam', loss='binary_crossentropy', metrics=['accuracy'])\n",
        "    return ann_classifier"
      ],
      "execution_count": 81,
      "outputs": []
    },
    {
      "cell_type": "markdown",
      "metadata": {
        "id": "q_L0xF1MNZzv",
        "colab_type": "text"
      },
      "source": [
        "**Step 4.3 -** Performing the cross validation"
      ]
    },
    {
      "cell_type": "code",
      "metadata": {
        "id": "_fAccawZOFSY",
        "colab_type": "code",
        "colab": {
          "base_uri": "https://localhost:8080/",
          "height": 51
        },
        "outputId": "a23b50e9-c486-4b60-e15c-56492ad5da97"
      },
      "source": [
        "ann_classifier = KerasClassifier(build_fn = build_classifier, batch_size = 10, nb_epoch = 100)\n",
        "accuracies = cross_val_score(estimator=ann_classifier, X=x_train, y=y_train, cv=7, n_jobs=-1)\n",
        "# will contain 10 accuracies returned by kfold cv\n",
        "print(\"The average of the accuracies is\", round((accuracies.mean() * 100), 2), '%')\n",
        "print(\"The standard deviation of the accuracies is \", accuracies.std())"
      ],
      "execution_count": 84,
      "outputs": [
        {
          "output_type": "stream",
          "text": [
            "The average of the accuracies is 79.69 %\n",
            "The standard deviation of the accuracies is  0.021439048083949606\n"
          ],
          "name": "stdout"
        }
      ]
    },
    {
      "cell_type": "markdown",
      "metadata": {
        "id": "_ROdUiaTN48M",
        "colab_type": "text"
      },
      "source": [
        "##**Step 5 :** Tuning the ANN \n",
        "* This is usually done for the sake of ease in choosing the best parameters for the ANN instead of manually imputing \n",
        "* This method also saves time by avoiding trial and error\n",
        "* We use the Grid Search method for this task"
      ]
    },
    {
      "cell_type": "code",
      "metadata": {
        "id": "CFuvR7VoOJim",
        "colab_type": "code",
        "colab": {}
      },
      "source": [
        "from sklearn.model_selection import GridSearchCV\n",
        "def build_classifier(optimizer):\n",
        "    from keras.models import Sequential\n",
        "    from keras.layers import Dense\n",
        "    ann_classifier = Sequential()\n",
        "    ann_classifier.add(Dense(output_dim=6, init='uniform', activation='relu', input_dim=11))\n",
        "    ann_classifier.add(Dense(output_dim=6, init='uniform', activation='relu'))\n",
        "    ann_classifier.add(Dense(output_dim=1, init='uniform', activation='sigmoid'))\n",
        "    ann_classifier.compile(optimizer=optimizer, loss='binary_crossentropy', metrics=['accuracy'])\n",
        "    return ann_classifier"
      ],
      "execution_count": 85,
      "outputs": []
    },
    {
      "cell_type": "markdown",
      "metadata": {
        "id": "0Qmeff93O-C2",
        "colab_type": "text"
      },
      "source": [
        "A small change we do while building this model is that the 'optimizer' argument is passed while calling the function so that it can use the optimizers provided in the list below"
      ]
    },
    {
      "cell_type": "code",
      "metadata": {
        "id": "FLrHbLFWOXWj",
        "colab_type": "code",
        "colab": {
          "base_uri": "https://localhost:8080/",
          "height": 1000
        },
        "outputId": "f587579f-90f7-4e04-eb21-9a0714f77146"
      },
      "source": [
        "# here we set the what parameters to pass to check for the optimal values suggested by this method\n",
        "ann_classifier = KerasClassifier(build_fn = build_classifier)\n",
        "\n",
        "# we pass these arguments of paramters as list\n",
        "params = {'batch_size': [25, 32], 'nb_epoch': [100, 200, 300], 'optimizer': ['adam', 'rmsprop']}\n",
        "\n",
        "grid_search = GridSearchCV(estimator=ann_classifier, param_grid=params, cv=10, scoring='accuracy')\n",
        "grid_search = grid_search.fit(x_train, y_train)\n",
        "best_parameters = grid_search.best_params_      # will give the best parameters\n",
        "best_accuracy = grid_search.best_score_         # will give the best accuracy score"
      ],
      "execution_count": 86,
      "outputs": [
        {
          "output_type": "stream",
          "text": [
            "Epoch 1/1\n",
            "7200/7200 [==============================] - 1s 75us/step - loss: 0.6096 - accuracy: 0.7903\n",
            "Epoch 1/1\n",
            "7200/7200 [==============================] - 1s 72us/step - loss: 0.5469 - accuracy: 0.7921\n",
            "Epoch 1/1\n",
            "7200/7200 [==============================] - 0s 64us/step - loss: 0.5535 - accuracy: 0.7921\n",
            "Epoch 1/1\n",
            "7200/7200 [==============================] - 0s 64us/step - loss: 0.5624 - accuracy: 0.7933\n",
            "Epoch 1/1\n",
            "7200/7200 [==============================] - 0s 64us/step - loss: 0.5578 - accuracy: 0.7925\n",
            "Epoch 1/1\n",
            "7200/7200 [==============================] - 0s 69us/step - loss: 0.5642 - accuracy: 0.7954\n",
            "Epoch 1/1\n",
            "7200/7200 [==============================] - 0s 67us/step - loss: 0.5401 - accuracy: 0.7935\n",
            "Epoch 1/1\n",
            "7200/7200 [==============================] - 0s 66us/step - loss: 0.5476 - accuracy: 0.7928\n",
            "Epoch 1/1\n",
            "7200/7200 [==============================] - 0s 68us/step - loss: 0.5682 - accuracy: 0.7925\n",
            "Epoch 1/1\n",
            "7200/7200 [==============================] - 0s 66us/step - loss: 0.5630 - accuracy: 0.7887\n",
            "Epoch 1/1\n",
            "7200/7200 [==============================] - 0s 64us/step - loss: 0.5739 - accuracy: 0.7925\n",
            "Epoch 1/1\n",
            "7200/7200 [==============================] - 0s 63us/step - loss: 0.5764 - accuracy: 0.7903\n",
            "Epoch 1/1\n",
            "7200/7200 [==============================] - 0s 60us/step - loss: 0.5752 - accuracy: 0.7922\n",
            "Epoch 1/1\n",
            "7200/7200 [==============================] - 0s 58us/step - loss: 0.6008 - accuracy: 0.7939\n",
            "Epoch 1/1\n",
            "7200/7200 [==============================] - 0s 57us/step - loss: 0.5568 - accuracy: 0.7940\n",
            "Epoch 1/1\n",
            "7200/7200 [==============================] - 0s 57us/step - loss: 0.5658 - accuracy: 0.7956\n",
            "Epoch 1/1\n",
            "7200/7200 [==============================] - 0s 62us/step - loss: 0.5855 - accuracy: 0.7935\n",
            "Epoch 1/1\n",
            "7200/7200 [==============================] - 0s 59us/step - loss: 0.6091 - accuracy: 0.7917\n",
            "Epoch 1/1\n",
            "7200/7200 [==============================] - 0s 57us/step - loss: 0.5889 - accuracy: 0.7915\n",
            "Epoch 1/1\n",
            "7200/7200 [==============================] - 0s 68us/step - loss: 0.5681 - accuracy: 0.7906\n",
            "Epoch 1/1\n",
            "7200/7200 [==============================] - 0s 63us/step - loss: 0.5522 - accuracy: 0.7906\n",
            "Epoch 1/1\n",
            "7200/7200 [==============================] - 0s 66us/step - loss: 0.5447 - accuracy: 0.7921\n",
            "Epoch 1/1\n",
            "7200/7200 [==============================] - 0s 63us/step - loss: 0.5574 - accuracy: 0.7897\n",
            "Epoch 1/1\n",
            "7200/7200 [==============================] - 0s 62us/step - loss: 0.5533 - accuracy: 0.7942\n",
            "Epoch 1/1\n",
            "7200/7200 [==============================] - 0s 62us/step - loss: 0.5518 - accuracy: 0.7933\n",
            "Epoch 1/1\n",
            "7200/7200 [==============================] - 0s 66us/step - loss: 0.6050 - accuracy: 0.7943\n",
            "Epoch 1/1\n",
            "7200/7200 [==============================] - 0s 67us/step - loss: 0.5791 - accuracy: 0.7914\n",
            "Epoch 1/1\n",
            "7200/7200 [==============================] - 0s 65us/step - loss: 0.5531 - accuracy: 0.7922\n",
            "Epoch 1/1\n",
            "7200/7200 [==============================] - 0s 65us/step - loss: 0.5874 - accuracy: 0.7904\n",
            "Epoch 1/1\n",
            "7200/7200 [==============================] - 0s 66us/step - loss: 0.5763 - accuracy: 0.7890\n",
            "Epoch 1/1\n",
            "7200/7200 [==============================] - 0s 63us/step - loss: 0.5884 - accuracy: 0.7900\n",
            "Epoch 1/1\n",
            "7200/7200 [==============================] - 0s 61us/step - loss: 0.5701 - accuracy: 0.7910\n",
            "Epoch 1/1\n",
            "7200/7200 [==============================] - 0s 60us/step - loss: 0.5655 - accuracy: 0.7922\n",
            "Epoch 1/1\n",
            "7200/7200 [==============================] - 0s 66us/step - loss: 0.5684 - accuracy: 0.7940\n",
            "Epoch 1/1\n",
            "7200/7200 [==============================] - 0s 60us/step - loss: 0.5665 - accuracy: 0.7939\n",
            "Epoch 1/1\n",
            "7200/7200 [==============================] - 0s 59us/step - loss: 0.5732 - accuracy: 0.7962\n",
            "Epoch 1/1\n",
            "7200/7200 [==============================] - 0s 61us/step - loss: 0.5906 - accuracy: 0.7931\n",
            "Epoch 1/1\n",
            "7200/7200 [==============================] - 0s 58us/step - loss: 0.5744 - accuracy: 0.7917\n",
            "Epoch 1/1\n",
            "7200/7200 [==============================] - 0s 59us/step - loss: 0.5857 - accuracy: 0.7922\n",
            "Epoch 1/1\n",
            "7200/7200 [==============================] - 0s 59us/step - loss: 0.5822 - accuracy: 0.7890\n",
            "Epoch 1/1\n",
            "7200/7200 [==============================] - 0s 63us/step - loss: 0.5840 - accuracy: 0.7918\n",
            "Epoch 1/1\n",
            "7200/7200 [==============================] - 0s 63us/step - loss: 0.5517 - accuracy: 0.7914\n",
            "Epoch 1/1\n",
            "7200/7200 [==============================] - 0s 66us/step - loss: 0.5794 - accuracy: 0.7917\n",
            "Epoch 1/1\n",
            "7200/7200 [==============================] - 0s 65us/step - loss: 0.5556 - accuracy: 0.7939\n",
            "Epoch 1/1\n",
            "7200/7200 [==============================] - 0s 61us/step - loss: 0.5800 - accuracy: 0.7926\n",
            "Epoch 1/1\n",
            "7200/7200 [==============================] - 0s 61us/step - loss: 0.5624 - accuracy: 0.7961\n",
            "Epoch 1/1\n",
            "7200/7200 [==============================] - 0s 60us/step - loss: 0.5651 - accuracy: 0.7933\n",
            "Epoch 1/1\n",
            "7200/7200 [==============================] - 0s 61us/step - loss: 0.5905 - accuracy: 0.7907\n",
            "Epoch 1/1\n",
            "7200/7200 [==============================] - 0s 65us/step - loss: 0.5416 - accuracy: 0.7931\n",
            "Epoch 1/1\n",
            "7200/7200 [==============================] - 0s 67us/step - loss: 0.5883 - accuracy: 0.7874\n",
            "Epoch 1/1\n",
            "7200/7200 [==============================] - 0s 58us/step - loss: 0.5777 - accuracy: 0.7914\n",
            "Epoch 1/1\n",
            "7200/7200 [==============================] - 0s 58us/step - loss: 0.5737 - accuracy: 0.7915\n",
            "Epoch 1/1\n",
            "7200/7200 [==============================] - 0s 60us/step - loss: 0.5843 - accuracy: 0.7910\n",
            "Epoch 1/1\n",
            "7200/7200 [==============================] - 0s 65us/step - loss: 0.6216 - accuracy: 0.7935\n",
            "Epoch 1/1\n",
            "7200/7200 [==============================] - 0s 60us/step - loss: 0.6046 - accuracy: 0.7921\n",
            "Epoch 1/1\n",
            "7200/7200 [==============================] - 0s 59us/step - loss: 0.6254 - accuracy: 0.7951\n",
            "Epoch 1/1\n",
            "7200/7200 [==============================] - 0s 63us/step - loss: 0.5751 - accuracy: 0.7922\n",
            "Epoch 1/1\n",
            "7200/7200 [==============================] - 0s 59us/step - loss: 0.6008 - accuracy: 0.7925\n",
            "Epoch 1/1\n",
            "7200/7200 [==============================] - 0s 60us/step - loss: 0.5817 - accuracy: 0.7915\n",
            "Epoch 1/1\n",
            "7200/7200 [==============================] - 0s 67us/step - loss: 0.5971 - accuracy: 0.7886\n",
            "Epoch 1/1\n",
            "7200/7200 [==============================] - 0s 54us/step - loss: 0.5872 - accuracy: 0.7914\n",
            "Epoch 1/1\n",
            "7200/7200 [==============================] - 0s 55us/step - loss: 0.5895 - accuracy: 0.7911\n",
            "Epoch 1/1\n",
            "7200/7200 [==============================] - 0s 57us/step - loss: 0.5723 - accuracy: 0.7919\n",
            "Epoch 1/1\n",
            "7200/7200 [==============================] - 0s 52us/step - loss: 0.5951 - accuracy: 0.7932\n",
            "Epoch 1/1\n",
            "7200/7200 [==============================] - 0s 54us/step - loss: 0.5751 - accuracy: 0.7936\n",
            "Epoch 1/1\n",
            "7200/7200 [==============================] - 0s 53us/step - loss: 0.5754 - accuracy: 0.7958\n",
            "Epoch 1/1\n",
            "7200/7200 [==============================] - 0s 52us/step - loss: 0.5956 - accuracy: 0.7926\n",
            "Epoch 1/1\n",
            "7200/7200 [==============================] - 0s 52us/step - loss: 0.6181 - accuracy: 0.7901\n",
            "Epoch 1/1\n",
            "7200/7200 [==============================] - 0s 51us/step - loss: 0.6031 - accuracy: 0.7919\n",
            "Epoch 1/1\n",
            "7200/7200 [==============================] - 0s 53us/step - loss: 0.6095 - accuracy: 0.7892\n",
            "Epoch 1/1\n",
            "7200/7200 [==============================] - 0s 50us/step - loss: 0.5865 - accuracy: 0.7924\n",
            "Epoch 1/1\n",
            "7200/7200 [==============================] - 0s 53us/step - loss: 0.5955 - accuracy: 0.7910\n",
            "Epoch 1/1\n",
            "7200/7200 [==============================] - 0s 50us/step - loss: 0.6026 - accuracy: 0.7912\n",
            "Epoch 1/1\n",
            "7200/7200 [==============================] - 0s 47us/step - loss: 0.5932 - accuracy: 0.7928\n",
            "Epoch 1/1\n",
            "7200/7200 [==============================] - 0s 49us/step - loss: 0.5857 - accuracy: 0.7937\n",
            "Epoch 1/1\n",
            "7200/7200 [==============================] - 0s 50us/step - loss: 0.5884 - accuracy: 0.7961\n",
            "Epoch 1/1\n",
            "7200/7200 [==============================] - 0s 57us/step - loss: 0.6073 - accuracy: 0.7922\n",
            "Epoch 1/1\n",
            "7200/7200 [==============================] - 0s 51us/step - loss: 0.5948 - accuracy: 0.7926\n",
            "Epoch 1/1\n",
            "7200/7200 [==============================] - 0s 50us/step - loss: 0.6028 - accuracy: 0.7931\n",
            "Epoch 1/1\n",
            "7200/7200 [==============================] - 0s 49us/step - loss: 0.6285 - accuracy: 0.7899\n",
            "Epoch 1/1\n",
            "7200/7200 [==============================] - 0s 56us/step - loss: 0.6126 - accuracy: 0.7910\n",
            "Epoch 1/1\n",
            "7200/7200 [==============================] - 0s 56us/step - loss: 0.5746 - accuracy: 0.7911\n",
            "Epoch 1/1\n",
            "7200/7200 [==============================] - 0s 55us/step - loss: 0.5720 - accuracy: 0.7925\n",
            "Epoch 1/1\n",
            "7200/7200 [==============================] - 0s 52us/step - loss: 0.5995 - accuracy: 0.7924\n",
            "Epoch 1/1\n",
            "7200/7200 [==============================] - 0s 53us/step - loss: 0.6075 - accuracy: 0.7922\n",
            "Epoch 1/1\n",
            "7200/7200 [==============================] - 0s 53us/step - loss: 0.5987 - accuracy: 0.7937\n",
            "Epoch 1/1\n",
            "7200/7200 [==============================] - 0s 52us/step - loss: 0.6227 - accuracy: 0.7910\n",
            "Epoch 1/1\n",
            "7200/7200 [==============================] - 0s 52us/step - loss: 0.6077 - accuracy: 0.7912\n",
            "Epoch 1/1\n",
            "7200/7200 [==============================] - 0s 52us/step - loss: 0.5872 - accuracy: 0.7915\n",
            "Epoch 1/1\n",
            "7200/7200 [==============================] - 0s 52us/step - loss: 0.5943 - accuracy: 0.7887\n",
            "Epoch 1/1\n",
            "7200/7200 [==============================] - 0s 48us/step - loss: 0.6330 - accuracy: 0.7901\n",
            "Epoch 1/1\n",
            "7200/7200 [==============================] - 0s 46us/step - loss: 0.6268 - accuracy: 0.7894\n",
            "Epoch 1/1\n",
            "7200/7200 [==============================] - 0s 49us/step - loss: 0.5910 - accuracy: 0.7924\n",
            "Epoch 1/1\n",
            "7200/7200 [==============================] - 0s 49us/step - loss: 0.6068 - accuracy: 0.7942\n",
            "Epoch 1/1\n",
            "7200/7200 [==============================] - 0s 50us/step - loss: 0.6002 - accuracy: 0.7926\n",
            "Epoch 1/1\n",
            "7200/7200 [==============================] - 0s 49us/step - loss: 0.6396 - accuracy: 0.7958\n",
            "Epoch 1/1\n",
            "7200/7200 [==============================] - 0s 49us/step - loss: 0.6080 - accuracy: 0.7925\n",
            "Epoch 1/1\n",
            "7200/7200 [==============================] - 0s 49us/step - loss: 0.6297 - accuracy: 0.7906\n",
            "Epoch 1/1\n",
            "7200/7200 [==============================] - 0s 47us/step - loss: 0.5945 - accuracy: 0.7921\n",
            "Epoch 1/1\n",
            "7200/7200 [==============================] - 0s 48us/step - loss: 0.6063 - accuracy: 0.7904\n",
            "Epoch 1/1\n",
            "7200/7200 [==============================] - 0s 55us/step - loss: 0.5913 - accuracy: 0.7910\n",
            "Epoch 1/1\n",
            "7200/7200 [==============================] - 0s 56us/step - loss: 0.6639 - accuracy: 0.7901\n",
            "Epoch 1/1\n",
            "7200/7200 [==============================] - 0s 55us/step - loss: 0.5798 - accuracy: 0.7924\n",
            "Epoch 1/1\n",
            "7200/7200 [==============================] - 0s 56us/step - loss: 0.5946 - accuracy: 0.7929\n",
            "Epoch 1/1\n",
            "7200/7200 [==============================] - 0s 56us/step - loss: 0.5841 - accuracy: 0.7924\n",
            "Epoch 1/1\n",
            "7200/7200 [==============================] - 0s 54us/step - loss: 0.5641 - accuracy: 0.7968\n",
            "Epoch 1/1\n",
            "7200/7200 [==============================] - 0s 53us/step - loss: 0.5715 - accuracy: 0.7935\n",
            "Epoch 1/1\n",
            "7200/7200 [==============================] - 0s 52us/step - loss: 0.5733 - accuracy: 0.7921\n",
            "Epoch 1/1\n",
            "7200/7200 [==============================] - 0s 53us/step - loss: 0.5908 - accuracy: 0.7912\n",
            "Epoch 1/1\n",
            "7200/7200 [==============================] - 0s 53us/step - loss: 0.6175 - accuracy: 0.7885\n",
            "Epoch 1/1\n",
            "7200/7200 [==============================] - 0s 46us/step - loss: 0.5992 - accuracy: 0.7899\n",
            "Epoch 1/1\n",
            "7200/7200 [==============================] - 0s 46us/step - loss: 0.6085 - accuracy: 0.7921\n",
            "Epoch 1/1\n",
            "7200/7200 [==============================] - 0s 47us/step - loss: 0.5865 - accuracy: 0.7918\n",
            "Epoch 1/1\n",
            "7200/7200 [==============================] - 0s 46us/step - loss: 0.5946 - accuracy: 0.7935\n",
            "Epoch 1/1\n",
            "7200/7200 [==============================] - 0s 54us/step - loss: 0.5997 - accuracy: 0.7936\n",
            "Epoch 1/1\n",
            "7200/7200 [==============================] - 0s 50us/step - loss: 0.6106 - accuracy: 0.7951\n",
            "Epoch 1/1\n",
            "7200/7200 [==============================] - 0s 49us/step - loss: 0.6251 - accuracy: 0.7907\n",
            "Epoch 1/1\n",
            "7200/7200 [==============================] - 0s 49us/step - loss: 0.6617 - accuracy: 0.7893\n",
            "Epoch 1/1\n",
            "7200/7200 [==============================] - 0s 51us/step - loss: 0.6039 - accuracy: 0.7911\n",
            "Epoch 1/1\n",
            "7200/7200 [==============================] - 0s 47us/step - loss: 0.5991 - accuracy: 0.7893\n",
            "Epoch 1/1\n",
            "8000/8000 [==============================] - 1s 66us/step - loss: 0.5572 - accuracy: 0.7914\n"
          ],
          "name": "stdout"
        }
      ]
    },
    {
      "cell_type": "code",
      "metadata": {
        "id": "6Ly-zb_YObII",
        "colab_type": "code",
        "colab": {
          "base_uri": "https://localhost:8080/",
          "height": 51
        },
        "outputId": "4b71b864-6179-4f6c-9161-d55ce4397de5"
      },
      "source": [
        "# checking the parameters obtained as suggestted by the grid search\n",
        "print(best_parameters)\n",
        "print(best_accuracy)"
      ],
      "execution_count": 87,
      "outputs": [
        {
          "output_type": "stream",
          "text": [
            "{'batch_size': 25, 'nb_epoch': 100, 'optimizer': 'adam'}\n",
            "0.79325\n"
          ],
          "name": "stdout"
        }
      ]
    },
    {
      "cell_type": "markdown",
      "metadata": {
        "id": "xZMahoNsPxvZ",
        "colab_type": "text"
      },
      "source": [
        "## **Step - 6 :** Running the ANN again based on parameters obtained done above"
      ]
    },
    {
      "cell_type": "code",
      "metadata": {
        "id": "YNo09WH2PAnM",
        "colab_type": "code",
        "colab": {
          "base_uri": "https://localhost:8080/",
          "height": 1000
        },
        "outputId": "73bfbdde-db22-4d17-92e2-1033903ad782"
      },
      "source": [
        "# defining the layers\n",
        "ann_classifier2 = Sequential()\n",
        "ann_classifier2.add(Dense(output_dim=6, init='uniform', activation='relu', input_dim=11))\n",
        "ann_classifier2.add(Dense(output_dim=6, init='uniform', activation='relu'))\n",
        "ann_classifier2.add(Dense(output_dim=1, init='uniform', activation='sigmoid'))\n",
        "ann_classifier2.compile(optimizer='adam', loss='binary_crossentropy', metrics=['accuracy'])\n",
        "ann_classifier2.fit(x_train, y_train, batch_size=25, nb_epoch=100)"
      ],
      "execution_count": 88,
      "outputs": [
        {
          "output_type": "stream",
          "text": [
            "Epoch 1/100\n",
            "8000/8000 [==============================] - 1s 84us/step - loss: 0.5453 - accuracy: 0.7925\n",
            "Epoch 2/100\n",
            "8000/8000 [==============================] - 0s 51us/step - loss: 0.4353 - accuracy: 0.7933\n",
            "Epoch 3/100\n",
            "8000/8000 [==============================] - 0s 51us/step - loss: 0.4293 - accuracy: 0.7933\n",
            "Epoch 4/100\n",
            "8000/8000 [==============================] - 0s 53us/step - loss: 0.4256 - accuracy: 0.7933\n",
            "Epoch 5/100\n",
            "8000/8000 [==============================] - 0s 53us/step - loss: 0.4220 - accuracy: 0.7936\n",
            "Epoch 6/100\n",
            "8000/8000 [==============================] - 0s 51us/step - loss: 0.4193 - accuracy: 0.8191\n",
            "Epoch 7/100\n",
            "8000/8000 [==============================] - 0s 50us/step - loss: 0.4174 - accuracy: 0.8217\n",
            "Epoch 8/100\n",
            "8000/8000 [==============================] - 0s 54us/step - loss: 0.4159 - accuracy: 0.8269\n",
            "Epoch 9/100\n",
            "8000/8000 [==============================] - 0s 53us/step - loss: 0.4144 - accuracy: 0.8265\n",
            "Epoch 10/100\n",
            "8000/8000 [==============================] - 0s 50us/step - loss: 0.4132 - accuracy: 0.8294\n",
            "Epoch 11/100\n",
            "8000/8000 [==============================] - 0s 55us/step - loss: 0.4121 - accuracy: 0.8300\n",
            "Epoch 12/100\n",
            "8000/8000 [==============================] - 0s 52us/step - loss: 0.4109 - accuracy: 0.8328\n",
            "Epoch 13/100\n",
            "8000/8000 [==============================] - 0s 52us/step - loss: 0.4101 - accuracy: 0.8316\n",
            "Epoch 14/100\n",
            "8000/8000 [==============================] - 0s 52us/step - loss: 0.4091 - accuracy: 0.8328\n",
            "Epoch 15/100\n",
            "8000/8000 [==============================] - 0s 52us/step - loss: 0.4083 - accuracy: 0.8339\n",
            "Epoch 16/100\n",
            "8000/8000 [==============================] - 0s 50us/step - loss: 0.4077 - accuracy: 0.8349\n",
            "Epoch 17/100\n",
            "8000/8000 [==============================] - 0s 54us/step - loss: 0.4068 - accuracy: 0.8340\n",
            "Epoch 18/100\n",
            "8000/8000 [==============================] - 0s 51us/step - loss: 0.4061 - accuracy: 0.8340\n",
            "Epoch 19/100\n",
            "8000/8000 [==============================] - 0s 51us/step - loss: 0.4059 - accuracy: 0.8339\n",
            "Epoch 20/100\n",
            "8000/8000 [==============================] - 0s 53us/step - loss: 0.4051 - accuracy: 0.8329\n",
            "Epoch 21/100\n",
            "8000/8000 [==============================] - 0s 52us/step - loss: 0.4045 - accuracy: 0.8345\n",
            "Epoch 22/100\n",
            "8000/8000 [==============================] - 0s 51us/step - loss: 0.4043 - accuracy: 0.8341\n",
            "Epoch 23/100\n",
            "8000/8000 [==============================] - 0s 60us/step - loss: 0.4039 - accuracy: 0.8336\n",
            "Epoch 24/100\n",
            "8000/8000 [==============================] - 0s 62us/step - loss: 0.4039 - accuracy: 0.8344\n",
            "Epoch 25/100\n",
            "8000/8000 [==============================] - 0s 56us/step - loss: 0.4027 - accuracy: 0.8330\n",
            "Epoch 26/100\n",
            "8000/8000 [==============================] - 0s 59us/step - loss: 0.4010 - accuracy: 0.8344\n",
            "Epoch 27/100\n",
            "8000/8000 [==============================] - 0s 53us/step - loss: 0.3996 - accuracy: 0.8351\n",
            "Epoch 28/100\n",
            "8000/8000 [==============================] - 0s 50us/step - loss: 0.3982 - accuracy: 0.8363\n",
            "Epoch 29/100\n",
            "8000/8000 [==============================] - 0s 54us/step - loss: 0.3983 - accuracy: 0.8353\n",
            "Epoch 30/100\n",
            "8000/8000 [==============================] - 0s 51us/step - loss: 0.3971 - accuracy: 0.8370\n",
            "Epoch 31/100\n",
            "8000/8000 [==============================] - 0s 52us/step - loss: 0.3969 - accuracy: 0.8381\n",
            "Epoch 32/100\n",
            "8000/8000 [==============================] - 0s 51us/step - loss: 0.3962 - accuracy: 0.8375\n",
            "Epoch 33/100\n",
            "8000/8000 [==============================] - 0s 51us/step - loss: 0.3956 - accuracy: 0.8363\n",
            "Epoch 34/100\n",
            "8000/8000 [==============================] - 0s 53us/step - loss: 0.3952 - accuracy: 0.8379\n",
            "Epoch 35/100\n",
            "8000/8000 [==============================] - 0s 51us/step - loss: 0.3948 - accuracy: 0.8384\n",
            "Epoch 36/100\n",
            "8000/8000 [==============================] - 0s 52us/step - loss: 0.3944 - accuracy: 0.8382\n",
            "Epoch 37/100\n",
            "8000/8000 [==============================] - 0s 51us/step - loss: 0.3949 - accuracy: 0.8371\n",
            "Epoch 38/100\n",
            "8000/8000 [==============================] - 0s 51us/step - loss: 0.3942 - accuracy: 0.8374\n",
            "Epoch 39/100\n",
            "8000/8000 [==============================] - 0s 60us/step - loss: 0.3937 - accuracy: 0.8382\n",
            "Epoch 40/100\n",
            "8000/8000 [==============================] - 0s 53us/step - loss: 0.3935 - accuracy: 0.8372\n",
            "Epoch 41/100\n",
            "8000/8000 [==============================] - 0s 52us/step - loss: 0.3935 - accuracy: 0.8376\n",
            "Epoch 42/100\n",
            "8000/8000 [==============================] - 0s 51us/step - loss: 0.3934 - accuracy: 0.8369\n",
            "Epoch 43/100\n",
            "8000/8000 [==============================] - 0s 51us/step - loss: 0.3932 - accuracy: 0.8390\n",
            "Epoch 44/100\n",
            "8000/8000 [==============================] - 0s 62us/step - loss: 0.3933 - accuracy: 0.8372\n",
            "Epoch 45/100\n",
            "8000/8000 [==============================] - 0s 61us/step - loss: 0.3928 - accuracy: 0.8367\n",
            "Epoch 46/100\n",
            "8000/8000 [==============================] - 1s 64us/step - loss: 0.3933 - accuracy: 0.8395\n",
            "Epoch 47/100\n",
            "8000/8000 [==============================] - 0s 57us/step - loss: 0.3927 - accuracy: 0.8379\n",
            "Epoch 48/100\n",
            "8000/8000 [==============================] - 0s 62us/step - loss: 0.3924 - accuracy: 0.8381\n",
            "Epoch 49/100\n",
            "8000/8000 [==============================] - 0s 55us/step - loss: 0.3922 - accuracy: 0.8379\n",
            "Epoch 50/100\n",
            "8000/8000 [==============================] - 0s 59us/step - loss: 0.3923 - accuracy: 0.8380\n",
            "Epoch 51/100\n",
            "8000/8000 [==============================] - 0s 57us/step - loss: 0.3920 - accuracy: 0.8393\n",
            "Epoch 52/100\n",
            "8000/8000 [==============================] - 0s 62us/step - loss: 0.3923 - accuracy: 0.8378\n",
            "Epoch 53/100\n",
            "8000/8000 [==============================] - 0s 57us/step - loss: 0.3920 - accuracy: 0.8389\n",
            "Epoch 54/100\n",
            "8000/8000 [==============================] - 0s 60us/step - loss: 0.3918 - accuracy: 0.8386\n",
            "Epoch 55/100\n",
            "8000/8000 [==============================] - 0s 56us/step - loss: 0.3919 - accuracy: 0.8385\n",
            "Epoch 56/100\n",
            "8000/8000 [==============================] - 0s 56us/step - loss: 0.3920 - accuracy: 0.8386\n",
            "Epoch 57/100\n",
            "8000/8000 [==============================] - 0s 56us/step - loss: 0.3920 - accuracy: 0.8393\n",
            "Epoch 58/100\n",
            "8000/8000 [==============================] - 0s 56us/step - loss: 0.3917 - accuracy: 0.8381\n",
            "Epoch 59/100\n",
            "8000/8000 [==============================] - 0s 60us/step - loss: 0.3914 - accuracy: 0.8397\n",
            "Epoch 60/100\n",
            "8000/8000 [==============================] - 0s 56us/step - loss: 0.3916 - accuracy: 0.8393\n",
            "Epoch 61/100\n",
            "8000/8000 [==============================] - 0s 59us/step - loss: 0.3917 - accuracy: 0.8390\n",
            "Epoch 62/100\n",
            "8000/8000 [==============================] - 0s 56us/step - loss: 0.3914 - accuracy: 0.8397\n",
            "Epoch 63/100\n",
            "8000/8000 [==============================] - 0s 57us/step - loss: 0.3919 - accuracy: 0.8389\n",
            "Epoch 64/100\n",
            "8000/8000 [==============================] - 0s 56us/step - loss: 0.3917 - accuracy: 0.8389\n",
            "Epoch 65/100\n",
            "8000/8000 [==============================] - 0s 60us/step - loss: 0.3912 - accuracy: 0.8386\n",
            "Epoch 66/100\n",
            "8000/8000 [==============================] - 0s 60us/step - loss: 0.3914 - accuracy: 0.8389\n",
            "Epoch 67/100\n",
            "8000/8000 [==============================] - 0s 55us/step - loss: 0.3918 - accuracy: 0.8393\n",
            "Epoch 68/100\n",
            "8000/8000 [==============================] - 0s 50us/step - loss: 0.3917 - accuracy: 0.8389\n",
            "Epoch 69/100\n",
            "8000/8000 [==============================] - 0s 50us/step - loss: 0.3911 - accuracy: 0.8397\n",
            "Epoch 70/100\n",
            "8000/8000 [==============================] - 0s 52us/step - loss: 0.3909 - accuracy: 0.8395\n",
            "Epoch 71/100\n",
            "8000/8000 [==============================] - 0s 52us/step - loss: 0.3911 - accuracy: 0.8406\n",
            "Epoch 72/100\n",
            "8000/8000 [==============================] - 0s 53us/step - loss: 0.3914 - accuracy: 0.8384\n",
            "Epoch 73/100\n",
            "8000/8000 [==============================] - 0s 50us/step - loss: 0.3908 - accuracy: 0.8393\n",
            "Epoch 74/100\n",
            "8000/8000 [==============================] - 0s 50us/step - loss: 0.3911 - accuracy: 0.8405\n",
            "Epoch 75/100\n",
            "8000/8000 [==============================] - 0s 52us/step - loss: 0.3912 - accuracy: 0.8382\n",
            "Epoch 76/100\n",
            "8000/8000 [==============================] - 0s 50us/step - loss: 0.3906 - accuracy: 0.8401\n",
            "Epoch 77/100\n",
            "8000/8000 [==============================] - 0s 51us/step - loss: 0.3906 - accuracy: 0.8390\n",
            "Epoch 78/100\n",
            "8000/8000 [==============================] - 0s 51us/step - loss: 0.3908 - accuracy: 0.8396\n",
            "Epoch 79/100\n",
            "8000/8000 [==============================] - 0s 55us/step - loss: 0.3910 - accuracy: 0.8390\n",
            "Epoch 80/100\n",
            "8000/8000 [==============================] - 0s 50us/step - loss: 0.3909 - accuracy: 0.8381\n",
            "Epoch 81/100\n",
            "8000/8000 [==============================] - 0s 52us/step - loss: 0.3908 - accuracy: 0.8382\n",
            "Epoch 82/100\n",
            "8000/8000 [==============================] - 0s 52us/step - loss: 0.3905 - accuracy: 0.8376\n",
            "Epoch 83/100\n",
            "8000/8000 [==============================] - 0s 50us/step - loss: 0.3905 - accuracy: 0.8389\n",
            "Epoch 84/100\n",
            "8000/8000 [==============================] - 0s 52us/step - loss: 0.3908 - accuracy: 0.8393\n",
            "Epoch 85/100\n",
            "8000/8000 [==============================] - 0s 53us/step - loss: 0.3907 - accuracy: 0.8382\n",
            "Epoch 86/100\n",
            "8000/8000 [==============================] - 0s 54us/step - loss: 0.3908 - accuracy: 0.8401\n",
            "Epoch 87/100\n",
            "8000/8000 [==============================] - 0s 52us/step - loss: 0.3903 - accuracy: 0.8380\n",
            "Epoch 88/100\n",
            "8000/8000 [==============================] - 0s 50us/step - loss: 0.3903 - accuracy: 0.8386\n",
            "Epoch 89/100\n",
            "8000/8000 [==============================] - 0s 52us/step - loss: 0.3904 - accuracy: 0.8400\n",
            "Epoch 90/100\n",
            "8000/8000 [==============================] - 0s 59us/step - loss: 0.3905 - accuracy: 0.8391\n",
            "Epoch 91/100\n",
            "8000/8000 [==============================] - 0s 50us/step - loss: 0.3906 - accuracy: 0.8386\n",
            "Epoch 92/100\n",
            "8000/8000 [==============================] - 0s 54us/step - loss: 0.3903 - accuracy: 0.8400\n",
            "Epoch 93/100\n",
            "8000/8000 [==============================] - 0s 52us/step - loss: 0.3901 - accuracy: 0.8380\n",
            "Epoch 94/100\n",
            "8000/8000 [==============================] - 0s 51us/step - loss: 0.3909 - accuracy: 0.8393\n",
            "Epoch 95/100\n",
            "8000/8000 [==============================] - 0s 50us/step - loss: 0.3903 - accuracy: 0.8395\n",
            "Epoch 96/100\n",
            "8000/8000 [==============================] - 0s 50us/step - loss: 0.3902 - accuracy: 0.8388\n",
            "Epoch 97/100\n",
            "8000/8000 [==============================] - 0s 51us/step - loss: 0.3902 - accuracy: 0.8381\n",
            "Epoch 98/100\n",
            "8000/8000 [==============================] - 0s 52us/step - loss: 0.3896 - accuracy: 0.8403\n",
            "Epoch 99/100\n",
            "8000/8000 [==============================] - 0s 51us/step - loss: 0.3901 - accuracy: 0.8396\n",
            "Epoch 100/100\n",
            "8000/8000 [==============================] - 0s 50us/step - loss: 0.3901 - accuracy: 0.8379\n"
          ],
          "name": "stdout"
        },
        {
          "output_type": "execute_result",
          "data": {
            "text/plain": [
              "<keras.callbacks.callbacks.History at 0x7ff4f1d5fef0>"
            ]
          },
          "metadata": {
            "tags": []
          },
          "execution_count": 88
        }
      ]
    },
    {
      "cell_type": "code",
      "metadata": {
        "id": "AAISbPaGP7nM",
        "colab_type": "code",
        "colab": {}
      },
      "source": [
        "# predicting the result\n",
        "y_pred2 = ann_classifier2.predict(x_test)\n",
        "y_pred2 = y_pred2 > 0.5"
      ],
      "execution_count": 89,
      "outputs": []
    },
    {
      "cell_type": "code",
      "metadata": {
        "id": "plGVfrWcQNWp",
        "colab_type": "code",
        "colab": {
          "base_uri": "https://localhost:8080/",
          "height": 34
        },
        "outputId": "2c5185ba-ba60-4fc9-ed8e-40885ca4394a"
      },
      "source": [
        "print('The accuracy obtained after tuning the ANN is', round((accuracy_score(y_test, y_pred2) * 100), 2), '%')"
      ],
      "execution_count": 92,
      "outputs": [
        {
          "output_type": "stream",
          "text": [
            "The accuracy obtained after tuning the ANN is 84.05 %\n"
          ],
          "name": "stdout"
        }
      ]
    },
    {
      "cell_type": "code",
      "metadata": {
        "id": "x6NdlK9YFgue",
        "colab_type": "code",
        "colab": {}
      },
      "source": [
        ""
      ],
      "execution_count": null,
      "outputs": []
    }
  ]
}