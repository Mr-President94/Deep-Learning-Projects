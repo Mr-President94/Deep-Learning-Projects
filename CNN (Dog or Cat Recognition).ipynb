{
 "cells": [
  {
   "cell_type": "markdown",
   "metadata": {},
   "source": [
    "# **Convolutional Neural Network Simplified (Dog/Cat Recognition)**\n",
    "\n",
    "## **Goals of the project -**\n",
    "* To understand the basic implemetation of the CNN\n",
    "* To build the CNN layer by layer and understanding the significance of each layer and the arguments used\n",
    "* Performing operations like Convolutional, MaxPooling, Flatten, etc\n",
    "* Understanding the concepts of vector in Flattening and Full Connection\n",
    "* Implementing Image Augmentation operations like rescaling, horizontal flip on training and testing images \n",
    "* Using Image Data Generator for Pre-processing"
   ]
  },
  {
   "cell_type": "markdown",
   "metadata": {},
   "source": [
    "## **Step - 1 :** Pre-processing"
   ]
  },
  {
   "cell_type": "code",
   "execution_count": 1,
   "metadata": {
    "colab": {},
    "colab_type": "code",
    "id": "QDivu_bSQmxz"
   },
   "outputs": [
    {
     "name": "stderr",
     "output_type": "stream",
     "text": [
      "Using TensorFlow backend.\n"
     ]
    }
   ],
   "source": [
    "# importing libraries\n",
    "from keras.models import Sequential     # initialize NN as a sequnce of layers\n",
    "from keras.layers import Convolution2D  # 2D coz it is an image not a video(3D) which has time stamp as well\n",
    "from keras.layers import MaxPooling2D\n",
    "from keras.layers import Flatten\n",
    "from keras.layers import Dense          # to add fully connected layers\n",
    "import warnings  \n",
    "warnings.filterwarnings('ignore')       # to ignore the warnings"
   ]
  },
  {
   "cell_type": "markdown",
   "metadata": {},
   "source": [
    "**Step 1.1 :** Intializing the CNN"
   ]
  },
  {
   "cell_type": "code",
   "execution_count": 2,
   "metadata": {
    "colab": {},
    "colab_type": "code",
    "id": "MWgIsPdRQ5R8"
   },
   "outputs": [],
   "source": [
    "cnn_classifier = Sequential()"
   ]
  },
  {
   "cell_type": "markdown",
   "metadata": {},
   "source": [
    "**Step 1.2 :** Convolution"
   ]
  },
  {
   "cell_type": "code",
   "execution_count": 3,
   "metadata": {
    "colab": {},
    "colab_type": "code",
    "id": "A2-FyF7AQ_2c"
   },
   "outputs": [
    {
     "name": "stdout",
     "output_type": "stream",
     "text": [
      "WARNING:tensorflow:From C:\\Users\\sragh\\anaconda3\\lib\\site-packages\\tensorflow\\python\\ops\\resource_variable_ops.py:435: colocate_with (from tensorflow.python.framework.ops) is deprecated and will be removed in a future version.\n",
      "Instructions for updating:\n",
      "Colocations handled automatically by placer.\n"
     ]
    }
   ],
   "source": [
    "cnn_classifier.add(Convolution2D(32, 3, 3, input_shape=(64, 64, 3), activation='relu'))"
   ]
  },
  {
   "cell_type": "markdown",
   "metadata": {},
   "source": [
    "**Arguments used -**\n",
    "* `arg1` = no. of feature detectors or filters \n",
    "* `arg2` = no. of rows of each feature detector \n",
    "* `arg3` = no. of cols of each feature detector \n",
    "* `arg4` = input_shape, i.e the shape of the image. The goal is to force the shape of all images into the same format as the input images may be of different shape \n",
    "* `input_shape=(64, 64, 3)` says that the dim. will be 64x64 and 3 represents the 3 channel of RGB as it is a colored image \n",
    "* `activation='relu'` as classifying the image is a non-linear problem, we use rectifier to have non-linearity in our model\n"
   ]
  },
  {
   "cell_type": "markdown",
   "metadata": {},
   "source": [
    "**Step 1.3 :** Max Pooling"
   ]
  },
  {
   "cell_type": "code",
   "execution_count": 4,
   "metadata": {
    "colab": {},
    "colab_type": "code",
    "id": "d-8sw1R6RD2V"
   },
   "outputs": [],
   "source": [
    "cnn_classifier.add(MaxPooling2D(pool_size=(2, 2)))"
   ]
  },
  {
   "cell_type": "markdown",
   "metadata": {},
   "source": [
    "**Argument used -**\n",
    "* `pool_size` represents the size of pooling image, usually kept 2x2 to not lose info and be precise as well"
   ]
  },
  {
   "cell_type": "code",
   "execution_count": 5,
   "metadata": {
    "colab": {},
    "colab_type": "code",
    "id": "cS2A7GWSRFeH"
   },
   "outputs": [],
   "source": [
    "# adding 2d layer for better accuracy(not added coz of hardware limitations)\n",
    "# cnn_classifier.add(Convolution2D(32, 3, 3, activation='relu'))\n",
    "# cnn_classifier.add(MaxPooling2D(pool_size=(2, 2)))"
   ]
  },
  {
   "cell_type": "markdown",
   "metadata": {},
   "source": [
    "**Step 1.4 :** Flatten"
   ]
  },
  {
   "cell_type": "code",
   "execution_count": 6,
   "metadata": {
    "colab": {},
    "colab_type": "code",
    "id": "2w8poNk1RIaN"
   },
   "outputs": [],
   "source": [
    "cnn_classifier.add(Flatten())  # to create a vector of pooling image having a unique feature"
   ]
  },
  {
   "cell_type": "markdown",
   "metadata": {},
   "source": [
    "**Step 1.5 :** Full Connection"
   ]
  },
  {
   "cell_type": "code",
   "execution_count": 7,
   "metadata": {
    "colab": {},
    "colab_type": "code",
    "id": "JO1L-xzJRLMx"
   },
   "outputs": [],
   "source": [
    "cnn_classifier.add(Dense(output_dim=128, activation='relu'))   # input layer\n",
    "cnn_classifier.add(Dense(output_dim=1, activation='sigmoid'))  # output layer (1 coz we need to predict a dog or a cat)"
   ]
  },
  {
   "cell_type": "markdown",
   "metadata": {},
   "source": [
    "**Step 1.5 :** Compile(fit)"
   ]
  },
  {
   "cell_type": "code",
   "execution_count": 8,
   "metadata": {
    "colab": {},
    "colab_type": "code",
    "id": "mCIm0ZFmRNBC"
   },
   "outputs": [],
   "source": [
    "cnn_classifier.compile(optimizer='adam', loss='binary_crossentropy', metrics=['accuracy'])"
   ]
  },
  {
   "cell_type": "markdown",
   "metadata": {},
   "source": [
    "**Arguments used -**\n",
    "\n",
    "* `optimizer` = name of the algorithm we want to apply, usually SGD algorithm known by 'adam'\n",
    "* `loss` = it is a loss function within SGD algorithm, or the function we need to optimize to find optimal weights usually based on the activation function used for the o/p layer, or the type of dependent variable\n",
    "* `metrics` parameter has [ ] coz it expects a list of values as the weights have been calculated after each observation or each batch of observations. Hence the algorithm uses this parameter to calculate the accuracy to improve the model performance"
   ]
  },
  {
   "cell_type": "markdown",
   "metadata": {},
   "source": [
    "## Step - 2 : Fitting CNN to images"
   ]
  },
  {
   "cell_type": "code",
   "execution_count": 9,
   "metadata": {
    "colab": {},
    "colab_type": "code",
    "id": "gQgxDRJOROuG"
   },
   "outputs": [],
   "source": [
    "from keras.preprocessing.image import ImageDataGenerator"
   ]
  },
  {
   "cell_type": "markdown",
   "metadata": {},
   "source": [
    "**Note -**\n",
    "Following is a template taken from Keras Documentation for Image preprocessing and fitting the model by taking the data from a directory\n",
    "\n",
    "**Step 2.1 :** Image Augmentation\n",
    "* Rescaling the Training data\n",
    "* This step is necessary as it generates many transformations so that we don't find same image in different batches"
   ]
  },
  {
   "cell_type": "code",
   "execution_count": 10,
   "metadata": {
    "colab": {},
    "colab_type": "code",
    "id": "vnmuk8ruRQQe"
   },
   "outputs": [],
   "source": [
    "# creating the function\n",
    "train_datagen = ImageDataGenerator(\n",
    "    rescale=1. / 255,                      \n",
    "    shear_range=0.2,                       \n",
    "    zoom_range=0.2,                         \n",
    "    horizontal_flip=True)                   "
   ]
  },
  {
   "cell_type": "markdown",
   "metadata": {},
   "source": [
    "**Arguments used -**\n",
    "* `rescale` rescales all pixel values between 0 and 1\n",
    "* `shear_range` performs random transvection (0.2) suggested by keras i.e. A kind of linear mapping which leaves all points on one axis fixed, while other points are shifted parallel to the axis by a distance proportional to their perpendicular distance from the axis\n",
    "* `zoom_range` is random zoom (0.2) suggested by keras\n",
    "* `horizontal_flip=True` images will be flipped horizontally\n",
    "\n",
    "**Step 2.2 :** Rescaling the test data"
   ]
  },
  {
   "cell_type": "code",
   "execution_count": 11,
   "metadata": {
    "colab": {},
    "colab_type": "code",
    "id": "LnKUoNi7RTxG"
   },
   "outputs": [],
   "source": [
    "test_datagen = ImageDataGenerator(rescale=1. / 255)     "
   ]
  },
  {
   "cell_type": "markdown",
   "metadata": {},
   "source": [
    "**Step 2.3 :** Applying image augmentation on training set"
   ]
  },
  {
   "cell_type": "code",
   "execution_count": 12,
   "metadata": {
    "colab": {
     "base_uri": "https://localhost:8080/",
     "height": 34
    },
    "colab_type": "code",
    "id": "avsc-UpdRVrG",
    "outputId": "9dbe40e4-8490-4f97-d35d-0e48771e5aac"
   },
   "outputs": [
    {
     "name": "stdout",
     "output_type": "stream",
     "text": [
      "Found 8000 images belonging to 2 classes.\n"
     ]
    }
   ],
   "source": [
    "training_set = train_datagen.flow_from_directory('C:/Users/Rohit/Desktop/Data Science/Deep Learning/Datasets/training_set',\n",
    "                                              target_size=(64, 64), batch_size=32, class_mode='binary')"
   ]
  },
  {
   "cell_type": "markdown",
   "metadata": {},
   "source": [
    "**Arguments used -**\n",
    "* `target_size` size of images expected in the cnn model, same as the input shape\n",
    "* `batch_size` size of the batches where random samples of image will be included \n",
    "or after how many inputs the weights will be updated\n",
    "* `class_mode` = 'binary' as this is a classification problem (2 classes)"
   ]
  },
  {
   "cell_type": "markdown",
   "metadata": {},
   "source": [
    "**Step 2.4 :** Applying image augmentation on testing set"
   ]
  },
  {
   "cell_type": "code",
   "execution_count": 13,
   "metadata": {
    "colab": {
     "base_uri": "https://localhost:8080/",
     "height": 34
    },
    "colab_type": "code",
    "id": "gcyE08ldeklY",
    "outputId": "f6d3720f-c26d-478c-bce0-df7b222d374a"
   },
   "outputs": [
    {
     "name": "stdout",
     "output_type": "stream",
     "text": [
      "Found 2000 images belonging to 2 classes.\n"
     ]
    }
   ],
   "source": [
    "test_set = test_datagen.flow_from_directory('C:/Users/Rohit/Desktop/Data Science/Deep Learning/Datasets/test_set',\n",
    "                                            target_size=(64, 64), batch_size=32, class_mode='binary')"
   ]
  },
  {
   "cell_type": "markdown",
   "metadata": {},
   "source": [
    "**Step 2.5 :** Fitting the model\n",
    "\n",
    "**Arguments used -** \n",
    "* `steps_per_epoch` - no. of images in training set\n",
    "* `validation_steps` - no. of images in testing set"
   ]
  },
  {
   "cell_type": "code",
   "execution_count": 14,
   "metadata": {
    "colab": {
     "base_uri": "https://localhost:8080/",
     "height": 357
    },
    "colab_type": "code",
    "id": "S0SdV-3NhYMd",
    "outputId": "01db34a3-adcb-4fc5-d019-04f0b486f6b4"
   },
   "outputs": [
    {
     "name": "stdout",
     "output_type": "stream",
     "text": [
      "WARNING:tensorflow:From C:\\Users\\sragh\\anaconda3\\lib\\site-packages\\tensorflow\\python\\ops\\math_ops.py:3066: to_int32 (from tensorflow.python.ops.math_ops) is deprecated and will be removed in a future version.\n",
      "Instructions for updating:\n",
      "Use tf.cast instead.\n",
      "Epoch 1/25\n",
      "8000/8000 [==============================] - 2123s 265ms/step - loss: 0.4004 - accuracy: 0.8092 - val_loss: 1.1346 - val_accuracy: 0.7547\n",
      "Epoch 2/25\n",
      "8000/8000 [==============================] - 1932s 241ms/step - loss: 0.1666 - accuracy: 0.9337 - val_loss: 0.8074 - val_accuracy: 0.7469\n",
      "Epoch 3/25\n",
      "8000/8000 [==============================] - 1983s 248ms/step - loss: 0.0921 - accuracy: 0.9658 - val_loss: 0.8953 - val_accuracy: 0.7605\n",
      "Epoch 4/25\n",
      "8000/8000 [==============================] - 1908s 238ms/step - loss: 0.0636 - accuracy: 0.9776 - val_loss: 1.0257 - val_accuracy: 0.7534\n",
      "Epoch 5/25\n",
      "8000/8000 [==============================] - 1796s 224ms/step - loss: 0.0511 - accuracy: 0.9825 - val_loss: 2.1484 - val_accuracy: 0.7483\n",
      "Epoch 6/25\n",
      "8000/8000 [==============================] - 1795s 224ms/step - loss: 0.0405 - accuracy: 0.9864 - val_loss: 1.4349 - val_accuracy: 0.7636\n",
      "Epoch 7/25\n",
      "8000/8000 [==============================] - 1743s 218ms/step - loss: 0.0353 - accuracy: 0.9885 - val_loss: 1.0907 - val_accuracy: 0.7503\n",
      "Epoch 8/25\n",
      "8000/8000 [==============================] - 1825s 228ms/step - loss: 0.0299 - accuracy: 0.9902 - val_loss: 3.1207 - val_accuracy: 0.7669\n",
      "Epoch 9/25\n",
      "8000/8000 [==============================] - 1832s 229ms/step - loss: 0.0278 - accuracy: 0.9914 - val_loss: 0.7866 - val_accuracy: 0.7590\n",
      "Epoch 10/25\n",
      "8000/8000 [==============================] - 1849s 231ms/step - loss: 0.0247 - accuracy: 0.9919 - val_loss: 1.2831 - val_accuracy: 0.7483\n",
      "Epoch 11/25\n",
      "8000/8000 [==============================] - 2549s 319ms/step - loss: 0.0212 - accuracy: 0.9932 - val_loss: 2.8772 - val_accuracy: 0.7669\n",
      "Epoch 12/25\n",
      "8000/8000 [==============================] - 2729s 341ms/step - loss: 0.0212 - accuracy: 0.9935 - val_loss: 2.6700 - val_accuracy: 0.7655\n",
      "Epoch 13/25\n",
      "8000/8000 [==============================] - 2579s 322ms/step - loss: 0.0179 - accuracy: 0.9943 - val_loss: 0.7723 - val_accuracy: 0.7571\n",
      "Epoch 14/25\n",
      "8000/8000 [==============================] - 2886s 361ms/step - loss: 0.0179 - accuracy: 0.9947 - val_loss: 1.2392 - val_accuracy: 0.7704\n",
      "Epoch 15/25\n",
      "8000/8000 [==============================] - 1812s 226ms/step - loss: 0.0164 - accuracy: 0.9947 - val_loss: 1.6090 - val_accuracy: 0.7482\n",
      "Epoch 16/25\n",
      "8000/8000 [==============================] - 1672s 209ms/step - loss: 0.0160 - accuracy: 0.9950 - val_loss: 1.3965 - val_accuracy: 0.7619\n",
      "Epoch 17/25\n",
      "8000/8000 [==============================] - 1667s 208ms/step - loss: 0.0143 - accuracy: 0.9957 - val_loss: 0.8658 - val_accuracy: 0.7639\n",
      "Epoch 18/25\n",
      "8000/8000 [==============================] - 1672s 209ms/step - loss: 0.0138 - accuracy: 0.9956 - val_loss: 0.5117 - val_accuracy: 0.7583\n",
      "Epoch 19/25\n",
      "8000/8000 [==============================] - 1664s 208ms/step - loss: 0.0128 - accuracy: 0.9960 - val_loss: 0.9701 - val_accuracy: 0.7697\n",
      "Epoch 20/25\n",
      "8000/8000 [==============================] - 1668s 208ms/step - loss: 0.0131 - accuracy: 0.9962 - val_loss: 1.7570 - val_accuracy: 0.7665\n",
      "Epoch 21/25\n",
      "8000/8000 [==============================] - 1661s 208ms/step - loss: 0.0124 - accuracy: 0.9965 - val_loss: 1.2972 - val_accuracy: 0.7665\n",
      "Epoch 22/25\n",
      "8000/8000 [==============================] - 1673s 209ms/step - loss: 0.0110 - accuracy: 0.9967 - val_loss: 2.1569 - val_accuracy: 0.7635\n",
      "Epoch 23/25\n",
      "8000/8000 [==============================] - 1682s 210ms/step - loss: 0.0111 - accuracy: 0.9967 - val_loss: 2.7047 - val_accuracy: 0.7643\n",
      "Epoch 24/25\n",
      "8000/8000 [==============================] - 1701s 213ms/step - loss: 0.0107 - accuracy: 0.9968 - val_loss: 2.0364 - val_accuracy: 0.7567\n",
      "Epoch 25/25\n",
      "8000/8000 [==============================] - 1716s 214ms/step - loss: 0.0109 - accuracy: 0.9968 - val_loss: 2.5504 - val_accuracy: 0.7589\n"
     ]
    },
    {
     "data": {
      "text/plain": [
       "<keras.callbacks.callbacks.History at 0x1f9b2317388>"
      ]
     },
     "execution_count": 14,
     "metadata": {},
     "output_type": "execute_result"
    }
   ],
   "source": [
    "cnn_classifier.fit(training_set, steps_per_epoch=8000, epochs=25, validation_data=test_set, validation_steps=2000)"
   ]
  },
  {
   "cell_type": "markdown",
   "metadata": {},
   "source": [
    "## Step - 3 : Making New Prediction\n",
    "\n",
    "* Here we will pass an image of a dog to see if our CNN identifies it correctly"
   ]
  },
  {
   "cell_type": "markdown",
   "metadata": {},
   "source": [
    "**Step 3.1 :** Pre-processing the image which we are going to load"
   ]
  },
  {
   "cell_type": "code",
   "execution_count": 3,
   "metadata": {
    "colab": {},
    "colab_type": "code",
    "id": "CxIhV2Tuhbcf"
   },
   "outputs": [],
   "source": [
    "import numpy as np    # to pre-process the image so that it gets accepted by predict method we are going to use\n",
    "from keras.preprocessing import image   # to load the image\n",
    "\n",
    "# the loaded image goes here\n",
    "test_image = image.load_img('C:/Users/Rohit/Desktop/Data Science/Deep Learning/Datasets/single_prediction/dog.jpg',\n",
    "                            target_size=(64, 64))   # target size same as that of the testing data"
   ]
  },
  {
   "cell_type": "code",
   "execution_count": 4,
   "metadata": {},
   "outputs": [
    {
     "data": {
      "image/png": "[encoded data removed]",
      "text/plain": [
       "<PIL.Image.Image image mode=RGB size=64x64 at 0x1876BDDF388>"
      ]
     },
     "execution_count": 4,
     "metadata": {},
     "output_type": "execute_result"
    }
   ],
   "source": [
    "test_image"
   ]
  },
  {
   "cell_type": "markdown",
   "metadata": {
    "colab_type": "text",
    "id": "pH7YAYVoWos-"
   },
   "source": [
    "**Step 3.2 :** Changing the dimensions of the test image from 64x64(2D) to 64x64x3(3D)"
   ]
  },
  {
   "cell_type": "code",
   "execution_count": 5,
   "metadata": {
    "colab": {},
    "colab_type": "code",
    "id": "6hXoV3kZ4eCp"
   },
   "outputs": [],
   "source": [
    "test_image = image.img_to_array(test_image)"
   ]
  },
  {
   "cell_type": "markdown",
   "metadata": {},
   "source": [
    "**Step 3.3 :** Changing the above image to 4 dimension\n",
    "* The predict method expects 4 dimensions and we have only 3\n",
    "* It can't take a single input i.e image\n",
    "* It only accepts inputs in a batch\n",
    "* Hence the 4th dimension is the batch, even if the batch has 1 input, the inputs must be in a batch"
   ]
  },
  {
   "cell_type": "code",
   "execution_count": 6,
   "metadata": {},
   "outputs": [
    {
     "data": {
      "text/plain": [
       "(1, 64, 64, 3)"
      ]
     },
     "execution_count": 6,
     "metadata": {},
     "output_type": "execute_result"
    }
   ],
   "source": [
    "test_image = np.expand_dims(test_image, axis=0)\n",
    "test_image.shape"
   ]
  },
  {
   "cell_type": "markdown",
   "metadata": {},
   "source": [
    "**Step 3.4 :** Prediction"
   ]
  },
  {
   "cell_type": "code",
   "execution_count": 7,
   "metadata": {},
   "outputs": [
    {
     "name": "stdout",
     "output_type": "stream",
     "text": [
      "[[1.]]\n"
     ]
    }
   ],
   "source": [
    "result = cnn_classifier.predict(test_image)\n",
    "print(result) # to check the result"
   ]
  },
  {
   "cell_type": "markdown",
   "metadata": {},
   "source": [
    "**Step 3.5 :** Checking the indices\n",
    "* We don't know from the result obtained above whether 1 stands for cat or a dog\n",
    "* Hence we use the attribute called `class_indices`, which gives us the info about the index assigned to each class"
   ]
  },
  {
   "cell_type": "code",
   "execution_count": 14,
   "metadata": {
    "colab": {},
    "colab_type": "code",
    "id": "mnKjbu1Ajjez"
   },
   "outputs": [
    {
     "data": {
      "text/plain": [
       "{'cats': 0, 'dogs': 1}"
      ]
     },
     "execution_count": 14,
     "metadata": {},
     "output_type": "execute_result"
    }
   ],
   "source": [
    "training_set.class_indices"
   ]
  },
  {
   "cell_type": "markdown",
   "metadata": {},
   "source": [
    "This result tells us that it identified the **dog** correctly"
   ]
  },
  {
   "cell_type": "code",
   "execution_count": 15,
   "metadata": {},
   "outputs": [
    {
     "data": {
      "text/plain": [
       "(1, 1)"
      ]
     },
     "execution_count": 15,
     "metadata": {},
     "output_type": "execute_result"
    }
   ],
   "source": [
    "result.shape"
   ]
  },
  {
   "cell_type": "markdown",
   "metadata": {},
   "source": [
    "**Step 3.6 :** Additional step **(Making result more explanatory)**\n",
    "* We extract the 1st element from `result` as it is a 2d array to identify whether the image is of a cat or a dog\n",
    "* Then we assign them with their respective class"
   ]
  },
  {
   "cell_type": "code",
   "execution_count": 16,
   "metadata": {},
   "outputs": [
    {
     "name": "stdout",
     "output_type": "stream",
     "text": [
      "The CNN identified the newly loaded image as Dog\n"
     ]
    }
   ],
   "source": [
    "if result[0][0] == 1:\n",
    "    prediction = 'Dog'\n",
    "else:\n",
    "    prediction = 'Cat'\n",
    "    \n",
    "# printing the result\n",
    "print(f\"The CNN identified the newly loaded image as {prediction}\")"
   ]
  },
  {
   "cell_type": "markdown",
   "metadata": {},
   "source": [
    "Checking whether it identifies the **cat** as well"
   ]
  },
  {
   "cell_type": "code",
   "execution_count": 17,
   "metadata": {},
   "outputs": [
    {
     "data": {
      "image/png": "[encoded data removed]",
      "text/plain": [
       "<PIL.Image.Image image mode=RGB size=64x64 at 0x1876C2DC1C8>"
      ]
     },
     "execution_count": 17,
     "metadata": {},
     "output_type": "execute_result"
    }
   ],
   "source": [
    "test_image2 = image.load_img('C:/Users/Rohit/Desktop/Data Science/Deep Learning/Datasets/single_prediction/cat.jpg',\n",
    "                            target_size=(64, 64))\n",
    "test_image2"
   ]
  },
  {
   "cell_type": "code",
   "execution_count": 18,
   "metadata": {},
   "outputs": [
    {
     "name": "stdout",
     "output_type": "stream",
     "text": [
      "The CNN identified the newly loaded image as Cat\n"
     ]
    }
   ],
   "source": [
    "test_image2 = image.img_to_array(test_image2)\n",
    "test_image2 = np.expand_dims(test_image2, axis=0)\n",
    "result2 = cnn_classifier.predict(test_image2)\n",
    "\n",
    "if result2[0][0] == 1:\n",
    "    prediction2 = 'Dog'\n",
    "else:\n",
    "    prediction2 = 'Cat'\n",
    "\n",
    "print(f\"The CNN identified the newly loaded image as {prediction2}\")"
   ]
  },
  {
   "cell_type": "code",
   "execution_count": null,
   "metadata": {},
   "outputs": [],
   "source": []
  }
 ],
 "metadata": {
  "accelerator": "GPU",
  "colab": {
   "collapsed_sections": [],
   "name": "CNN.ipynb",
   "provenance": []
  },
  "kernelspec": {
   "display_name": "Python 3",
   "language": "python",
   "name": "python3"
  },
  "language_info": {
   "codemirror_mode": {
    "name": "ipython",
    "version": 3
   },
   "file_extension": ".py",
   "mimetype": "text/x-python",
   "name": "python",
   "nbconvert_exporter": "python",
   "pygments_lexer": "ipython3",
   "version": "3.7.7"
  }
 },
 "nbformat": 4,
 "nbformat_minor": 1
}
