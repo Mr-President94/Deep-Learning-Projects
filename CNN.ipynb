{
 "cells": [
  {
   "cell_type": "markdown",
   "metadata": {},
   "source": [
    "# **Convolutional Neural Network Simplified (Classification of Dog/Cat)**\n",
    "\n",
    "## **Goals of the project -**\n",
    "* To understand the basic implemetation of the CNN\n",
    "* To build the CNN layer by layer and understanding the significance of each layer and the arguments used\n",
    "* Performing operations like Convolutional, MaxPooling, Flatten, etc\n",
    "* Understanding the concepts of vector in Flattening and Full Connection\n",
    "* Implementing Image Augmentation operations like rescaling, horizontal flip on training and testing images \n",
    "* Using Image Data Generator for Pre-processing"
   ]
  },
  {
   "cell_type": "markdown",
   "metadata": {},
   "source": [
    "## **Step - 1 :** Pre-processing"
   ]
  },
  {
   "cell_type": "code",
   "execution_count": 48,
   "metadata": {
    "colab": {},
    "colab_type": "code",
    "id": "QDivu_bSQmxz"
   },
   "outputs": [],
   "source": [
    "# importing libraries\n",
    "from keras.models import Sequential     # initialize NN as a sequnce of layers\n",
    "from keras.layers import Convolution2D  # 2D coz it is an image not a video(3D) which has time stamp as well\n",
    "from keras.layers import MaxPooling2D\n",
    "from keras.layers import Flatten\n",
    "from keras.layers import Dense          # to add fully connected layers\n",
    "import warnings  \n",
    "warnings.filterwarnings('ignore')       # to ignore the warnings"
   ]
  },
  {
   "cell_type": "markdown",
   "metadata": {},
   "source": [
    "**Step 1.1 :** Intializing the CNN"
   ]
  },
  {
   "cell_type": "code",
   "execution_count": 49,
   "metadata": {
    "colab": {},
    "colab_type": "code",
    "id": "MWgIsPdRQ5R8"
   },
   "outputs": [],
   "source": [
    "cnn_classifier = Sequential()"
   ]
  },
  {
   "cell_type": "markdown",
   "metadata": {},
   "source": [
    "**Step 1.2 :** Convolution"
   ]
  },
  {
   "cell_type": "code",
   "execution_count": 50,
   "metadata": {
    "colab": {},
    "colab_type": "code",
    "id": "A2-FyF7AQ_2c"
   },
   "outputs": [],
   "source": [
    "cnn_classifier.add(Convolution2D(32, 3, 3, input_shape=(64, 64, 3), activation='relu'))"
   ]
  },
  {
   "cell_type": "markdown",
   "metadata": {},
   "source": [
    "**Arguments used -**\n",
    "* `arg1` = no. of feature detectors or filters \n",
    "* `arg2` = no. of rows of each feature detector \n",
    "* `arg3` = no. of cols of each feature detector \n",
    "* `arg4` = input_shape, i.e the shape of the image. The goal is to force the shape of all images into the same format as the input images may be of different shape \n",
    "* `input_shape=(64, 64, 3)` says that the dim. will be 64x64 and 3 represents the 3 channel of RGB as it is a colored image \n",
    "* `activation='relu'` as classifying the image is a non-linear problem, we use rectifier to have non-linearity in our model\n"
   ]
  },
  {
   "cell_type": "markdown",
   "metadata": {},
   "source": [
    "**Step 1.3 :** Max Pooling"
   ]
  },
  {
   "cell_type": "code",
   "execution_count": 51,
   "metadata": {
    "colab": {},
    "colab_type": "code",
    "id": "d-8sw1R6RD2V"
   },
   "outputs": [],
   "source": [
    "cnn_classifier.add(MaxPooling2D(pool_size=(2, 2)))"
   ]
  },
  {
   "cell_type": "markdown",
   "metadata": {},
   "source": [
    "**Argument used -**\n",
    "* `pool_size` represents the size of pooling image, usually kept 2x2 to not lose info and be precise as well"
   ]
  },
  {
   "cell_type": "code",
   "execution_count": 52,
   "metadata": {
    "colab": {},
    "colab_type": "code",
    "id": "cS2A7GWSRFeH"
   },
   "outputs": [],
   "source": [
    "# adding 2d layer for better accuracy(not added coz of hardware limitations)\n",
    "# cnn_classifier.add(Convolution2D(32, 3, 3, activation='relu'))\n",
    "# cnn_classifier.add(MaxPooling2D(pool_size=(2, 2)))"
   ]
  },
  {
   "cell_type": "markdown",
   "metadata": {},
   "source": [
    "**Step 1.4 :** Flatten"
   ]
  },
  {
   "cell_type": "code",
   "execution_count": 53,
   "metadata": {
    "colab": {},
    "colab_type": "code",
    "id": "2w8poNk1RIaN"
   },
   "outputs": [],
   "source": [
    "cnn_classifier.add(Flatten())  # to create a vector of pooling image having a unique feature"
   ]
  },
  {
   "cell_type": "markdown",
   "metadata": {},
   "source": [
    "**Step 1.5 :** Full Connection"
   ]
  },
  {
   "cell_type": "code",
   "execution_count": 54,
   "metadata": {
    "colab": {},
    "colab_type": "code",
    "id": "JO1L-xzJRLMx"
   },
   "outputs": [],
   "source": [
    "cnn_classifier.add(Dense(output_dim=128, activation='relu'))   # input layer\n",
    "cnn_classifier.add(Dense(output_dim=1, activation='sigmoid'))  # output layer (1 coz we need to predict a dog or a cat)"
   ]
  },
  {
   "cell_type": "markdown",
   "metadata": {},
   "source": [
    "**Step 1.5 :** Compile(fit)"
   ]
  },
  {
   "cell_type": "code",
   "execution_count": 55,
   "metadata": {
    "colab": {},
    "colab_type": "code",
    "id": "mCIm0ZFmRNBC"
   },
   "outputs": [],
   "source": [
    "cnn_classifier.compile(optimizer='adam', loss='binary_crossentropy', metrics=['accuracy'])"
   ]
  },
  {
   "cell_type": "markdown",
   "metadata": {},
   "source": [
    "**Arguments used -**\n",
    "\n",
    "* `optimizer` = name of the algorithm we want to apply, usually SGD algorithm known by 'adam'\n",
    "* `loss` = it is a loss function within SGD algorithm, or the function we need to optimize to find optimal weights usually based on the activation function used for the o/p layer, or the type of dependent variable\n",
    "* `metrics` parameter has [ ] coz it expects a list of values as the weights have been calculated after each observation or each batch of observations. Hence the algorithm uses this parameter to calculate the accuracy to improve the model performance"
   ]
  },
  {
   "cell_type": "markdown",
   "metadata": {},
   "source": [
    "## Step - 2 : Fitting CNN to images"
   ]
  },
  {
   "cell_type": "code",
   "execution_count": 56,
   "metadata": {
    "colab": {},
    "colab_type": "code",
    "id": "gQgxDRJOROuG"
   },
   "outputs": [],
   "source": [
    "from keras.preprocessing.image import ImageDataGenerator"
   ]
  },
  {
   "cell_type": "markdown",
   "metadata": {},
   "source": [
    "**Note -**\n",
    "Following is a template taken from Keras Documentation for Image preprocessing and fitting the model by taking the data from a directory\n",
    "\n",
    "**Step 2.1 :** Image Augmentation\n",
    "* Rescaling the Training data\n",
    "* This step is necessary as it generates many transformations so that we don't find same image in different batches"
   ]
  },
  {
   "cell_type": "code",
   "execution_count": 57,
   "metadata": {
    "colab": {},
    "colab_type": "code",
    "id": "vnmuk8ruRQQe"
   },
   "outputs": [],
   "source": [
    "# creating the function\n",
    "train_datagen = ImageDataGenerator(\n",
    "    rescale=1. / 255,                      \n",
    "    shear_range=0.2,                       \n",
    "    zoom_range=0.2,                         \n",
    "    horizontal_flip=True)                   "
   ]
  },
  {
   "cell_type": "markdown",
   "metadata": {},
   "source": [
    "**Arguments used -**\n",
    "* `rescale` rescales all pixel values between 0 and 1\n",
    "* `shear_range` performs random transvection (0.2) suggested by keras i.e. A kind of linear mapping which leaves all points on one axis fixed, while other points are shifted parallel to the axis by a distance proportional to their perpendicular distance from the axis\n",
    "* `zoom_range` is random zoom (0.2) suggested by keras\n",
    "* `horizontal_flip=True` images will be flipped horizontally\n",
    "\n",
    "**Step 2.2 :** Rescaling the test data"
   ]
  },
  {
   "cell_type": "code",
   "execution_count": 58,
   "metadata": {
    "colab": {},
    "colab_type": "code",
    "id": "LnKUoNi7RTxG"
   },
   "outputs": [],
   "source": [
    "test_datagen = ImageDataGenerator(rescale=1. / 255)     "
   ]
  },
  {
   "cell_type": "markdown",
   "metadata": {},
   "source": [
    "**Step 2.3 :** Applying image augmentation on training set"
   ]
  },
  {
   "cell_type": "code",
   "execution_count": 59,
   "metadata": {
    "colab": {
     "base_uri": "https://localhost:8080/",
     "height": 34
    },
    "colab_type": "code",
    "id": "avsc-UpdRVrG",
    "outputId": "9dbe40e4-8490-4f97-d35d-0e48771e5aac"
   },
   "outputs": [
    {
     "name": "stdout",
     "output_type": "stream",
     "text": [
      "Found 8000 images belonging to 2 classes.\n"
     ]
    }
   ],
   "source": [
    "training_set = train_datagen.flow_from_directory('C:/Users/Rohit/Desktop/Data Science/Deep Learning/Datasets/training_set',\n",
    "                                              target_size=(64, 64), batch_size=32, class_mode='binary')"
   ]
  },
  {
   "cell_type": "markdown",
   "metadata": {},
   "source": [
    "**Arguments used -**\n",
    "* `target_size` size of images expected in the cnn model, same as the input shape\n",
    "* `batch_size` size of the batches where random samples of image will be included \n",
    "or after how many inputs the weights will be updated\n",
    "* `class_mode` = 'binary' as this is a classification problem (2 classes)"
   ]
  },
  {
   "cell_type": "markdown",
   "metadata": {},
   "source": [
    "**Step 2.4 :** Applying image augmentation on testing set"
   ]
  },
  {
   "cell_type": "code",
   "execution_count": 60,
   "metadata": {
    "colab": {
     "base_uri": "https://localhost:8080/",
     "height": 34
    },
    "colab_type": "code",
    "id": "gcyE08ldeklY",
    "outputId": "f6d3720f-c26d-478c-bce0-df7b222d374a"
   },
   "outputs": [
    {
     "name": "stdout",
     "output_type": "stream",
     "text": [
      "Found 2000 images belonging to 2 classes.\n"
     ]
    }
   ],
   "source": [
    "test_set = test_datagen.flow_from_directory('C:/Users/Rohit/Desktop/Data Science/Deep Learning/Datasets/test_set',\n",
    "                                            target_size=(64, 64), batch_size=32, class_mode='binary')"
   ]
  },
  {
   "cell_type": "markdown",
   "metadata": {},
   "source": [
    "**Step 2.5 :** Fitting the model\n",
    "\n",
    "**Arguments used -** \n",
    "* `steps_per_epoch` - no. of images in training set\n",
    "* `validation_steps` - no. of images in testing set"
   ]
  },
  {
   "cell_type": "code",
   "execution_count": 63,
   "metadata": {
    "colab": {
     "base_uri": "https://localhost:8080/",
     "height": 357
    },
    "colab_type": "code",
    "id": "S0SdV-3NhYMd",
    "outputId": "01db34a3-adcb-4fc5-d019-04f0b486f6b4"
   },
   "outputs": [
    {
     "name": "stdout",
     "output_type": "stream",
     "text": [
      "Epoch 1/10\n",
      "8000/8000 [==============================] - 2277s 285ms/step - loss: 0.3312 - accuracy: 0.8528 - val_loss: 0.5600 - val_accuracy: 0.7568\n",
      "Epoch 2/10\n",
      "8000/8000 [==============================] - 2410s 301ms/step - loss: 0.2459 - accuracy: 0.8958 - val_loss: 0.7867 - val_accuracy: 0.7609\n",
      "Epoch 3/10\n",
      "8000/8000 [==============================] - 2209s 276ms/step - loss: 0.1911 - accuracy: 0.9219 - val_loss: 0.7684 - val_accuracy: 0.7471\n",
      "Epoch 4/10\n",
      "8000/8000 [==============================] - 2154s 269ms/step - loss: 0.1555 - accuracy: 0.9386 - val_loss: 1.6236 - val_accuracy: 0.7574\n",
      "Epoch 5/10\n",
      "8000/8000 [==============================] - 1936s 242ms/step - loss: 0.1308 - accuracy: 0.9499 - val_loss: 1.3602 - val_accuracy: 0.7399\n",
      "Epoch 6/10\n",
      "8000/8000 [==============================] - 1938s 242ms/step - loss: 0.1122 - accuracy: 0.9582 - val_loss: 2.0356 - val_accuracy: 0.7464\n",
      "Epoch 7/10\n",
      "8000/8000 [==============================] - 1936s 242ms/step - loss: 0.0962 - accuracy: 0.9649 - val_loss: 2.4215 - val_accuracy: 0.7520\n",
      "Epoch 8/10\n",
      "8000/8000 [==============================] - 1932s 241ms/step - loss: 0.0841 - accuracy: 0.9698 - val_loss: 1.4613 - val_accuracy: 0.7464\n",
      "Epoch 9/10\n",
      "8000/8000 [==============================] - 1942s 243ms/step - loss: 0.0773 - accuracy: 0.9721 - val_loss: 2.4890 - val_accuracy: 0.7394\n",
      "Epoch 10/10\n",
      "8000/8000 [==============================] - 1940s 242ms/step - loss: 0.0685 - accuracy: 0.9756 - val_loss: 2.8670 - val_accuracy: 0.7438\n"
     ]
    },
    {
     "data": {
      "text/plain": [
       "<keras.callbacks.callbacks.History at 0x15f3273e2c8>"
      ]
     },
     "execution_count": 63,
     "metadata": {},
     "output_type": "execute_result"
    }
   ],
   "source": [
    "cnn_classifier.fit(training_set, steps_per_epoch=8000, epochs=10, validation_data=test_set, validation_steps=2000)"
   ]
  },
  {
   "cell_type": "markdown",
   "metadata": {},
   "source": [
    "## Step - 3 : Making New Prediction\n",
    "\n",
    "* Here we will pass an image of a dog to see if our CNN identifies it correctly"
   ]
  },
  {
   "cell_type": "markdown",
   "metadata": {},
   "source": [
    "**Step 3.1 :** Pre-processing the image which we are going to load"
   ]
  },
  {
   "cell_type": "code",
   "execution_count": 79,
   "metadata": {
    "colab": {},
    "colab_type": "code",
    "id": "CxIhV2Tuhbcf"
   },
   "outputs": [],
   "source": [
    "import numpy as np    # to pre-process the image so that it gets accepted by predict method we are going to use\n",
    "from keras.preprocessing import image   # to load the image\n",
    "\n",
    "# the loaded image goes here\n",
    "test_image = image.load_img('C:/Users/Rohit/Desktop/Data Science/Deep Learning/Datasets/single_prediction/dog.jpg',\n",
    "                            target_size=(64, 64))   # target size same as that of the testing data"
   ]
  },
  {
   "cell_type": "code",
   "execution_count": 80,
   "metadata": {},
   "outputs": [
    {
     "data": {
      "image/png": "[encoded data removed]",
      "text/plain": [
       "<PIL.Image.Image image mode=RGB size=64x64 at 0x15F317D0348>"
      ]
     },
     "execution_count": 80,
     "metadata": {},
     "output_type": "execute_result"
    }
   ],
   "source": [
    "test_image"
   ]
  },
  {
   "cell_type": "markdown",
   "metadata": {
    "colab_type": "text",
    "id": "pH7YAYVoWos-"
   },
   "source": [
    "**Step 3.2 :** Changing the dimensions of the test image from 64x64(2D) to 64x64x3(3D)"
   ]
  },
  {
   "cell_type": "code",
   "execution_count": 82,
   "metadata": {
    "colab": {},
    "colab_type": "code",
    "id": "6hXoV3kZ4eCp"
   },
   "outputs": [],
   "source": [
    "test_image = image.img_to_array(test_image)"
   ]
  },
  {
   "cell_type": "markdown",
   "metadata": {},
   "source": [
    "**Step 3.3 :** Changing the above image to 4 dimension\n",
    "* The predict method expects 4 dimensions and we have only 3\n",
    "* It can't take a single input i.e image\n",
    "* It only accepts inputs in a batch\n",
    "* Hence the 4th dimension is the batch, even if the batch has 1 input, the inputs must be in a batch"
   ]
  },
  {
   "cell_type": "code",
   "execution_count": 83,
   "metadata": {},
   "outputs": [
    {
     "data": {
      "text/plain": [
       "(1, 64, 64, 3)"
      ]
     },
     "execution_count": 83,
     "metadata": {},
     "output_type": "execute_result"
    }
   ],
   "source": [
    "test_image = np.expand_dims(test_image, axis=0)\n",
    "test_image.shape"
   ]
  },
  {
   "cell_type": "markdown",
   "metadata": {},
   "source": [
    "**Step 3.4 :** Prediction"
   ]
  },
  {
   "cell_type": "code",
   "execution_count": 89,
   "metadata": {},
   "outputs": [
    {
     "name": "stdout",
     "output_type": "stream",
     "text": [
      "[[1.]]\n",
      "(1, 1)\n"
     ]
    }
   ],
   "source": [
    "result = cnn_classifier.predict(test_image)\n",
    "print(result) # to check the result\n",
    "print(result.shape)"
   ]
  },
  {
   "cell_type": "markdown",
   "metadata": {},
   "source": [
    "**Step 3.5 :** Checking the indices\n",
    "* We don't know from the result obtained above whether 1 stands for cat or a dog\n",
    "* Hence we use the attribute called `class_indices`, which gives us the info about the index assigned to each class"
   ]
  },
  {
   "cell_type": "code",
   "execution_count": 87,
   "metadata": {
    "colab": {},
    "colab_type": "code",
    "id": "mnKjbu1Ajjez"
   },
   "outputs": [
    {
     "data": {
      "text/plain": [
       "{'cats': 0, 'dogs': 1}"
      ]
     },
     "execution_count": 87,
     "metadata": {},
     "output_type": "execute_result"
    }
   ],
   "source": [
    "training_set.class_indices"
   ]
  },
  {
   "cell_type": "markdown",
   "metadata": {},
   "source": [
    "This result tells us that it identified the **dog** correctly\n",
    "\n",
    "**Step 3.6 :** Additional step **(Making result more explanatory)**\n",
    "* We extract the 1st element from `result` as it is a 2d array to identify whether the image is of a cat or a dog\n",
    "* Then we assign them with their respective class"
   ]
  },
  {
   "cell_type": "code",
   "execution_count": 88,
   "metadata": {},
   "outputs": [
    {
     "name": "stdout",
     "output_type": "stream",
     "text": [
      "The CNN identified the newly loaded image as Dog\n"
     ]
    }
   ],
   "source": [
    "if result[0][0] == 1:\n",
    "    prediction = 'Dog'\n",
    "else:\n",
    "    prediction = 'Cat'\n",
    "    \n",
    "# printing the result\n",
    "print(f\"The CNN identified the newly loaded image as {prediction}\")"
   ]
  },
  {
   "cell_type": "code",
   "execution_count": null,
   "metadata": {},
   "outputs": [],
   "source": []
  }
 ],
 "metadata": {
  "accelerator": "GPU",
  "colab": {
   "collapsed_sections": [],
   "name": "CNN.ipynb",
   "provenance": []
  },
  "kernelspec": {
   "display_name": "Python 3",
   "language": "python",
   "name": "python3"
  },
  "language_info": {
   "codemirror_mode": {
    "name": "ipython",
    "version": 3
   },
   "file_extension": ".py",
   "mimetype": "text/x-python",
   "name": "python",
   "nbconvert_exporter": "python",
   "pygments_lexer": "ipython3",
   "version": "3.7.7"
  }
 },
 "nbformat": 4,
 "nbformat_minor": 1
}
